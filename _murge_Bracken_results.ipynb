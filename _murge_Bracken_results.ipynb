{
 "cells": [
  {
   "cell_type": "code",
   "execution_count": 1,
   "id": "15b1b08b-ee20-470f-892f-df5eb0e53699",
   "metadata": {},
   "outputs": [
    {
     "name": "stderr",
     "output_type": "stream",
     "text": [
      "\n",
      "다음의 패키지를 부착합니다: ‘dplyr’\n",
      "\n",
      "\n",
      "The following objects are masked from ‘package:stats’:\n",
      "\n",
      "    filter, lag\n",
      "\n",
      "\n",
      "The following objects are masked from ‘package:base’:\n",
      "\n",
      "    intersect, setdiff, setequal, union\n",
      "\n",
      "\n"
     ]
    }
   ],
   "source": [
    "library(dplyr)"
   ]
  },
  {
   "cell_type": "code",
   "execution_count": 9,
   "id": "7184f2c8-dd5f-40dc-97db-eef98dad6cf1",
   "metadata": {},
   "outputs": [
    {
     "data": {
      "text/html": [
       "<style>\n",
       ".list-inline {list-style: none; margin:0; padding: 0}\n",
       ".list-inline>li {display: inline-block}\n",
       ".list-inline>li:not(:last-child)::after {content: \"\\00b7\"; padding: 0 .5ex}\n",
       "</style>\n",
       "<ol class=list-inline><li>'090743N-COPD'</li><li>'090815N-COPD'</li><li>'103907N-COPD'</li><li>'1047-COPD'</li><li>'1088-COPD'</li><li>'1092-COPD'</li></ol>\n"
      ],
      "text/latex": [
       "\\begin{enumerate*}\n",
       "\\item '090743N-COPD'\n",
       "\\item '090815N-COPD'\n",
       "\\item '103907N-COPD'\n",
       "\\item '1047-COPD'\n",
       "\\item '1088-COPD'\n",
       "\\item '1092-COPD'\n",
       "\\end{enumerate*}\n"
      ],
      "text/markdown": [
       "1. '090743N-COPD'\n",
       "2. '090815N-COPD'\n",
       "3. '103907N-COPD'\n",
       "4. '1047-COPD'\n",
       "5. '1088-COPD'\n",
       "6. '1092-COPD'\n",
       "\n",
       "\n"
      ],
      "text/plain": [
       "[1] \"090743N-COPD\" \"090815N-COPD\" \"103907N-COPD\" \"1047-COPD\"    \"1088-COPD\"   \n",
       "[6] \"1092-COPD\"   "
      ]
     },
     "metadata": {},
     "output_type": "display_data"
    }
   ],
   "source": [
    "wd <- \"/mnt/gmi-analysis01/_90.User_Data/juhyunk/project/Lung_Virome/YM\"\n",
    "copd <- dir(paste0(wd,\"/COPD\"))[grep(\"-COPD\",dir(paste0(wd,\"/COPD\")))]\n",
    "head(copd)"
   ]
  },
  {
   "cell_type": "code",
   "execution_count": 22,
   "id": "1351d6ba-70c9-4ed8-8e05-7d31f5c2c442",
   "metadata": {},
   "outputs": [
    {
     "data": {
      "text/html": [
       "<style>\n",
       ".list-inline {list-style: none; margin:0; padding: 0}\n",
       ".list-inline>li {display: inline-block}\n",
       ".list-inline>li:not(:last-child)::after {content: \"\\00b7\"; padding: 0 .5ex}\n",
       "</style>\n",
       "<ol class=list-inline><li>'090743N-COPD'</li><li>'090815N-COPD'</li><li>'103907N-COPD'</li><li>'1047-COPD'</li><li>'1088-COPD'</li><li>'1092-COPD'</li><li>'1141-COPD'</li><li>'12-COPD'</li><li>'1332-COPD'</li><li>'1380-COPD'</li><li>'1395-COPD'</li><li>'1423-COPD'</li><li>'1444-COPD'</li><li>'1480-COPD'</li><li>'1493-COPD'</li><li>'1494-COPD'</li><li>'1506-COPD'</li><li>'1516-COPD'</li><li>'1566-COPD'</li><li>'157-COPD'</li><li>'1630-COPD'</li><li>'1635-COPD'</li><li>'1653-COPD'</li><li>'1785-COPD'</li><li>'1809-COPD'</li><li>'1845-COPD'</li><li>'1890-COPD'</li><li>'190-COPD'</li><li>'206-COPD'</li><li>'2070-COPD'</li><li>'2081-COPD'</li><li>'2134-COPD'</li><li>'2178-COPD'</li><li>'2216-COPD'</li><li>'2269-COPD'</li><li>'2301-COPD'</li><li>'2350-COPD'</li><li>'2356-COPD'</li><li>'2408-COPD'</li><li>'2578-COPD'</li><li>'2616-COPD'</li><li>'2618-COPD'</li><li>'2625-COPD'</li><li>'2649-COPD'</li><li>'2673-COPD'</li><li>'2700-COPD'</li><li>'2702-COPD'</li><li>'271-COPD'</li><li>'274-COPD'</li><li>'2747-COPD'</li><li>'2783-COPD'</li><li>'2821-COPD'</li><li>'2846-COPD'</li><li>'2966-COPD'</li><li>'2981-COPD'</li><li>'3103-COPD'</li><li>'3147-COPD'</li><li>'3264-COPD'</li><li>'3298-COPD'</li><li>'3333-COPD'</li><li>'3387-COPD'</li><li>'343-COPD'</li><li>'3430-COPD'</li><li>'3523-COPD'</li><li>'362-COPD'</li><li>'3652-COPD'</li><li>'367-COPD'</li><li>'3700-COPD'</li><li>'3722-COPD'</li><li>'376-COPD'</li><li>'3773-COPD'</li><li>'3838-COPD'</li><li>'3862-COPD'</li><li>'3907-COPD'</li><li>'4024-COPD'</li><li>'4066-COPD'</li><li>'4136-COPD'</li><li>'4169-COPD'</li><li>'440-COPD'</li><li>'465-COPD'</li><li>'4926-COPD'</li><li>'4980-COPD'</li><li>'501-COPD'</li><li>'5078-COPD'</li><li>'5082-COPD'</li><li>'5103-COPD'</li><li>'5130-COPD'</li><li>'5215-COPD'</li><li>'565-COPD'</li><li>'578-COPD'</li><li>'634-COPD'</li><li>'648-COPD'</li><li>'704-COPD'</li><li>'743-COPD'</li><li>'815-COPD'</li><li>'821-COPD'</li><li>'852-COPD'</li><li>'964-COPD'</li><li>'984-COPD'</li></ol>\n"
      ],
      "text/latex": [
       "\\begin{enumerate*}\n",
       "\\item '090743N-COPD'\n",
       "\\item '090815N-COPD'\n",
       "\\item '103907N-COPD'\n",
       "\\item '1047-COPD'\n",
       "\\item '1088-COPD'\n",
       "\\item '1092-COPD'\n",
       "\\item '1141-COPD'\n",
       "\\item '12-COPD'\n",
       "\\item '1332-COPD'\n",
       "\\item '1380-COPD'\n",
       "\\item '1395-COPD'\n",
       "\\item '1423-COPD'\n",
       "\\item '1444-COPD'\n",
       "\\item '1480-COPD'\n",
       "\\item '1493-COPD'\n",
       "\\item '1494-COPD'\n",
       "\\item '1506-COPD'\n",
       "\\item '1516-COPD'\n",
       "\\item '1566-COPD'\n",
       "\\item '157-COPD'\n",
       "\\item '1630-COPD'\n",
       "\\item '1635-COPD'\n",
       "\\item '1653-COPD'\n",
       "\\item '1785-COPD'\n",
       "\\item '1809-COPD'\n",
       "\\item '1845-COPD'\n",
       "\\item '1890-COPD'\n",
       "\\item '190-COPD'\n",
       "\\item '206-COPD'\n",
       "\\item '2070-COPD'\n",
       "\\item '2081-COPD'\n",
       "\\item '2134-COPD'\n",
       "\\item '2178-COPD'\n",
       "\\item '2216-COPD'\n",
       "\\item '2269-COPD'\n",
       "\\item '2301-COPD'\n",
       "\\item '2350-COPD'\n",
       "\\item '2356-COPD'\n",
       "\\item '2408-COPD'\n",
       "\\item '2578-COPD'\n",
       "\\item '2616-COPD'\n",
       "\\item '2618-COPD'\n",
       "\\item '2625-COPD'\n",
       "\\item '2649-COPD'\n",
       "\\item '2673-COPD'\n",
       "\\item '2700-COPD'\n",
       "\\item '2702-COPD'\n",
       "\\item '271-COPD'\n",
       "\\item '274-COPD'\n",
       "\\item '2747-COPD'\n",
       "\\item '2783-COPD'\n",
       "\\item '2821-COPD'\n",
       "\\item '2846-COPD'\n",
       "\\item '2966-COPD'\n",
       "\\item '2981-COPD'\n",
       "\\item '3103-COPD'\n",
       "\\item '3147-COPD'\n",
       "\\item '3264-COPD'\n",
       "\\item '3298-COPD'\n",
       "\\item '3333-COPD'\n",
       "\\item '3387-COPD'\n",
       "\\item '343-COPD'\n",
       "\\item '3430-COPD'\n",
       "\\item '3523-COPD'\n",
       "\\item '362-COPD'\n",
       "\\item '3652-COPD'\n",
       "\\item '367-COPD'\n",
       "\\item '3700-COPD'\n",
       "\\item '3722-COPD'\n",
       "\\item '376-COPD'\n",
       "\\item '3773-COPD'\n",
       "\\item '3838-COPD'\n",
       "\\item '3862-COPD'\n",
       "\\item '3907-COPD'\n",
       "\\item '4024-COPD'\n",
       "\\item '4066-COPD'\n",
       "\\item '4136-COPD'\n",
       "\\item '4169-COPD'\n",
       "\\item '440-COPD'\n",
       "\\item '465-COPD'\n",
       "\\item '4926-COPD'\n",
       "\\item '4980-COPD'\n",
       "\\item '501-COPD'\n",
       "\\item '5078-COPD'\n",
       "\\item '5082-COPD'\n",
       "\\item '5103-COPD'\n",
       "\\item '5130-COPD'\n",
       "\\item '5215-COPD'\n",
       "\\item '565-COPD'\n",
       "\\item '578-COPD'\n",
       "\\item '634-COPD'\n",
       "\\item '648-COPD'\n",
       "\\item '704-COPD'\n",
       "\\item '743-COPD'\n",
       "\\item '815-COPD'\n",
       "\\item '821-COPD'\n",
       "\\item '852-COPD'\n",
       "\\item '964-COPD'\n",
       "\\item '984-COPD'\n",
       "\\end{enumerate*}\n"
      ],
      "text/markdown": [
       "1. '090743N-COPD'\n",
       "2. '090815N-COPD'\n",
       "3. '103907N-COPD'\n",
       "4. '1047-COPD'\n",
       "5. '1088-COPD'\n",
       "6. '1092-COPD'\n",
       "7. '1141-COPD'\n",
       "8. '12-COPD'\n",
       "9. '1332-COPD'\n",
       "10. '1380-COPD'\n",
       "11. '1395-COPD'\n",
       "12. '1423-COPD'\n",
       "13. '1444-COPD'\n",
       "14. '1480-COPD'\n",
       "15. '1493-COPD'\n",
       "16. '1494-COPD'\n",
       "17. '1506-COPD'\n",
       "18. '1516-COPD'\n",
       "19. '1566-COPD'\n",
       "20. '157-COPD'\n",
       "21. '1630-COPD'\n",
       "22. '1635-COPD'\n",
       "23. '1653-COPD'\n",
       "24. '1785-COPD'\n",
       "25. '1809-COPD'\n",
       "26. '1845-COPD'\n",
       "27. '1890-COPD'\n",
       "28. '190-COPD'\n",
       "29. '206-COPD'\n",
       "30. '2070-COPD'\n",
       "31. '2081-COPD'\n",
       "32. '2134-COPD'\n",
       "33. '2178-COPD'\n",
       "34. '2216-COPD'\n",
       "35. '2269-COPD'\n",
       "36. '2301-COPD'\n",
       "37. '2350-COPD'\n",
       "38. '2356-COPD'\n",
       "39. '2408-COPD'\n",
       "40. '2578-COPD'\n",
       "41. '2616-COPD'\n",
       "42. '2618-COPD'\n",
       "43. '2625-COPD'\n",
       "44. '2649-COPD'\n",
       "45. '2673-COPD'\n",
       "46. '2700-COPD'\n",
       "47. '2702-COPD'\n",
       "48. '271-COPD'\n",
       "49. '274-COPD'\n",
       "50. '2747-COPD'\n",
       "51. '2783-COPD'\n",
       "52. '2821-COPD'\n",
       "53. '2846-COPD'\n",
       "54. '2966-COPD'\n",
       "55. '2981-COPD'\n",
       "56. '3103-COPD'\n",
       "57. '3147-COPD'\n",
       "58. '3264-COPD'\n",
       "59. '3298-COPD'\n",
       "60. '3333-COPD'\n",
       "61. '3387-COPD'\n",
       "62. '343-COPD'\n",
       "63. '3430-COPD'\n",
       "64. '3523-COPD'\n",
       "65. '362-COPD'\n",
       "66. '3652-COPD'\n",
       "67. '367-COPD'\n",
       "68. '3700-COPD'\n",
       "69. '3722-COPD'\n",
       "70. '376-COPD'\n",
       "71. '3773-COPD'\n",
       "72. '3838-COPD'\n",
       "73. '3862-COPD'\n",
       "74. '3907-COPD'\n",
       "75. '4024-COPD'\n",
       "76. '4066-COPD'\n",
       "77. '4136-COPD'\n",
       "78. '4169-COPD'\n",
       "79. '440-COPD'\n",
       "80. '465-COPD'\n",
       "81. '4926-COPD'\n",
       "82. '4980-COPD'\n",
       "83. '501-COPD'\n",
       "84. '5078-COPD'\n",
       "85. '5082-COPD'\n",
       "86. '5103-COPD'\n",
       "87. '5130-COPD'\n",
       "88. '5215-COPD'\n",
       "89. '565-COPD'\n",
       "90. '578-COPD'\n",
       "91. '634-COPD'\n",
       "92. '648-COPD'\n",
       "93. '704-COPD'\n",
       "94. '743-COPD'\n",
       "95. '815-COPD'\n",
       "96. '821-COPD'\n",
       "97. '852-COPD'\n",
       "98. '964-COPD'\n",
       "99. '984-COPD'\n",
       "\n",
       "\n"
      ],
      "text/plain": [
       " [1] \"090743N-COPD\" \"090815N-COPD\" \"103907N-COPD\" \"1047-COPD\"    \"1088-COPD\"   \n",
       " [6] \"1092-COPD\"    \"1141-COPD\"    \"12-COPD\"      \"1332-COPD\"    \"1380-COPD\"   \n",
       "[11] \"1395-COPD\"    \"1423-COPD\"    \"1444-COPD\"    \"1480-COPD\"    \"1493-COPD\"   \n",
       "[16] \"1494-COPD\"    \"1506-COPD\"    \"1516-COPD\"    \"1566-COPD\"    \"157-COPD\"    \n",
       "[21] \"1630-COPD\"    \"1635-COPD\"    \"1653-COPD\"    \"1785-COPD\"    \"1809-COPD\"   \n",
       "[26] \"1845-COPD\"    \"1890-COPD\"    \"190-COPD\"     \"206-COPD\"     \"2070-COPD\"   \n",
       "[31] \"2081-COPD\"    \"2134-COPD\"    \"2178-COPD\"    \"2216-COPD\"    \"2269-COPD\"   \n",
       "[36] \"2301-COPD\"    \"2350-COPD\"    \"2356-COPD\"    \"2408-COPD\"    \"2578-COPD\"   \n",
       "[41] \"2616-COPD\"    \"2618-COPD\"    \"2625-COPD\"    \"2649-COPD\"    \"2673-COPD\"   \n",
       "[46] \"2700-COPD\"    \"2702-COPD\"    \"271-COPD\"     \"274-COPD\"     \"2747-COPD\"   \n",
       "[51] \"2783-COPD\"    \"2821-COPD\"    \"2846-COPD\"    \"2966-COPD\"    \"2981-COPD\"   \n",
       "[56] \"3103-COPD\"    \"3147-COPD\"    \"3264-COPD\"    \"3298-COPD\"    \"3333-COPD\"   \n",
       "[61] \"3387-COPD\"    \"343-COPD\"     \"3430-COPD\"    \"3523-COPD\"    \"362-COPD\"    \n",
       "[66] \"3652-COPD\"    \"367-COPD\"     \"3700-COPD\"    \"3722-COPD\"    \"376-COPD\"    \n",
       "[71] \"3773-COPD\"    \"3838-COPD\"    \"3862-COPD\"    \"3907-COPD\"    \"4024-COPD\"   \n",
       "[76] \"4066-COPD\"    \"4136-COPD\"    \"4169-COPD\"    \"440-COPD\"     \"465-COPD\"    \n",
       "[81] \"4926-COPD\"    \"4980-COPD\"    \"501-COPD\"     \"5078-COPD\"    \"5082-COPD\"   \n",
       "[86] \"5103-COPD\"    \"5130-COPD\"    \"5215-COPD\"    \"565-COPD\"     \"578-COPD\"    \n",
       "[91] \"634-COPD\"     \"648-COPD\"     \"704-COPD\"     \"743-COPD\"     \"815-COPD\"    \n",
       "[96] \"821-COPD\"     \"852-COPD\"     \"964-COPD\"     \"984-COPD\"    "
      ]
     },
     "metadata": {},
     "output_type": "display_data"
    }
   ],
   "source": [
    "copd"
   ]
  },
  {
   "cell_type": "code",
   "execution_count": 25,
   "id": "e055a682-8cfc-4f0d-b930-ab6e2a4b503b",
   "metadata": {},
   "outputs": [],
   "source": [
    "copdTab <- data.frame()\n",
    "sample <- \"090743N\"\n",
    "copdTab <- read.table(paste0(wd,\"/COPD/\",sample,\"-COPD/Bracken/\",sample,\"-COPD.Standard.bracken.out\"), sep = '\\t', header=T)[c(2)]\n",
    "\n",
    "for ( sample in copd) {\n",
    "    #sample <- gsub(\"-COPD\",\"\",sample)\n",
    "    # print(sample)\n",
    "    copdTab0 <- read.table(paste0(wd,\"/COPD/\",sample,\"/Bracken/\",sample,\".Standard.bracken.out\"), sep = '\\t', header=T)[c(2,5)]\n",
    "    colnames(copdTab0) <- c(\"taxonomy_id\",sample)\n",
    "    copdTab <- full_join(copdTab, copdTab0,by = 'taxonomy_id')\n",
    "}"
   ]
  },
  {
   "cell_type": "code",
   "execution_count": 26,
   "id": "634b2909-3700-4b18-a35f-091cf171619a",
   "metadata": {},
   "outputs": [
    {
     "data": {
      "text/html": [
       "<table class=\"dataframe\">\n",
       "<caption>A data.frame: 6 × 100</caption>\n",
       "<thead>\n",
       "\t<tr><th></th><th scope=col>taxonomy_id</th><th scope=col>090743N-COPD</th><th scope=col>090815N-COPD</th><th scope=col>103907N-COPD</th><th scope=col>1047-COPD</th><th scope=col>1088-COPD</th><th scope=col>1092-COPD</th><th scope=col>1141-COPD</th><th scope=col>12-COPD</th><th scope=col>1332-COPD</th><th scope=col>⋯</th><th scope=col>578-COPD</th><th scope=col>634-COPD</th><th scope=col>648-COPD</th><th scope=col>704-COPD</th><th scope=col>743-COPD</th><th scope=col>815-COPD</th><th scope=col>821-COPD</th><th scope=col>852-COPD</th><th scope=col>964-COPD</th><th scope=col>984-COPD</th></tr>\n",
       "\t<tr><th></th><th scope=col>&lt;int&gt;</th><th scope=col>&lt;int&gt;</th><th scope=col>&lt;int&gt;</th><th scope=col>&lt;int&gt;</th><th scope=col>&lt;int&gt;</th><th scope=col>&lt;int&gt;</th><th scope=col>&lt;int&gt;</th><th scope=col>&lt;int&gt;</th><th scope=col>&lt;int&gt;</th><th scope=col>&lt;int&gt;</th><th scope=col>⋯</th><th scope=col>&lt;int&gt;</th><th scope=col>&lt;int&gt;</th><th scope=col>&lt;int&gt;</th><th scope=col>&lt;int&gt;</th><th scope=col>&lt;int&gt;</th><th scope=col>&lt;int&gt;</th><th scope=col>&lt;int&gt;</th><th scope=col>&lt;int&gt;</th><th scope=col>&lt;int&gt;</th><th scope=col>&lt;int&gt;</th></tr>\n",
       "</thead>\n",
       "<tbody>\n",
       "\t<tr><th scope=row>1</th><td>  9606</td><td>141001</td><td>77904</td><td>118068</td><td>121899</td><td>118496</td><td>94562</td><td>142023</td><td>83117</td><td>166510</td><td>⋯</td><td>82347</td><td>92820</td><td>186179</td><td>160289</td><td>97501</td><td>93777</td><td>89842</td><td>70103</td><td>89149</td><td>174085</td></tr>\n",
       "\t<tr><th scope=row>2</th><td>   305</td><td>  1453</td><td>   51</td><td>   221</td><td>    16</td><td>    15</td><td>   36</td><td>    20</td><td>   43</td><td>    21</td><td>⋯</td><td>   18</td><td>   43</td><td>     6</td><td>    11</td><td>   23</td><td>   31</td><td>   29</td><td>  122</td><td>    9</td><td>   511</td></tr>\n",
       "\t<tr><th scope=row>3</th><td>105219</td><td>     1</td><td>   NA</td><td>    NA</td><td>    NA</td><td>    NA</td><td>   NA</td><td>    NA</td><td>   NA</td><td>    NA</td><td>⋯</td><td>   NA</td><td>   NA</td><td>    NA</td><td>    NA</td><td>   NA</td><td>   NA</td><td>   NA</td><td>   NA</td><td>   NA</td><td>    NA</td></tr>\n",
       "\t<tr><th scope=row>4</th><td> 82541</td><td>     6</td><td>   NA</td><td>    NA</td><td>    NA</td><td>    NA</td><td>   NA</td><td>    NA</td><td>   NA</td><td>    NA</td><td>⋯</td><td>   NA</td><td>   NA</td><td>    NA</td><td>    NA</td><td>   NA</td><td>   NA</td><td>   NA</td><td>   NA</td><td>   NA</td><td>    NA</td></tr>\n",
       "\t<tr><th scope=row>5</th><td>265293</td><td>     4</td><td>   NA</td><td>     0</td><td>    NA</td><td>    NA</td><td>   NA</td><td>    NA</td><td>   NA</td><td>    NA</td><td>⋯</td><td>   NA</td><td>   NA</td><td>    NA</td><td>    NA</td><td>   NA</td><td>   NA</td><td>   NA</td><td>   NA</td><td>   NA</td><td>    NA</td></tr>\n",
       "\t<tr><th scope=row>6</th><td> 47671</td><td>     0</td><td>   NA</td><td>    NA</td><td>    NA</td><td>    NA</td><td>   NA</td><td>    NA</td><td>   NA</td><td>    NA</td><td>⋯</td><td>   NA</td><td>   NA</td><td>    NA</td><td>    NA</td><td>   NA</td><td>   NA</td><td>   NA</td><td>   NA</td><td>   NA</td><td>    NA</td></tr>\n",
       "</tbody>\n",
       "</table>\n"
      ],
      "text/latex": [
       "A data.frame: 6 × 100\n",
       "\\begin{tabular}{r|lllllllllllllllllllll}\n",
       "  & taxonomy\\_id & 090743N-COPD & 090815N-COPD & 103907N-COPD & 1047-COPD & 1088-COPD & 1092-COPD & 1141-COPD & 12-COPD & 1332-COPD & ⋯ & 578-COPD & 634-COPD & 648-COPD & 704-COPD & 743-COPD & 815-COPD & 821-COPD & 852-COPD & 964-COPD & 984-COPD\\\\\n",
       "  & <int> & <int> & <int> & <int> & <int> & <int> & <int> & <int> & <int> & <int> & ⋯ & <int> & <int> & <int> & <int> & <int> & <int> & <int> & <int> & <int> & <int>\\\\\n",
       "\\hline\n",
       "\t1 &   9606 & 141001 & 77904 & 118068 & 121899 & 118496 & 94562 & 142023 & 83117 & 166510 & ⋯ & 82347 & 92820 & 186179 & 160289 & 97501 & 93777 & 89842 & 70103 & 89149 & 174085\\\\\n",
       "\t2 &    305 &   1453 &    51 &    221 &     16 &     15 &    36 &     20 &    43 &     21 & ⋯ &    18 &    43 &      6 &     11 &    23 &    31 &    29 &   122 &     9 &    511\\\\\n",
       "\t3 & 105219 &      1 &    NA &     NA &     NA &     NA &    NA &     NA &    NA &     NA & ⋯ &    NA &    NA &     NA &     NA &    NA &    NA &    NA &    NA &    NA &     NA\\\\\n",
       "\t4 &  82541 &      6 &    NA &     NA &     NA &     NA &    NA &     NA &    NA &     NA & ⋯ &    NA &    NA &     NA &     NA &    NA &    NA &    NA &    NA &    NA &     NA\\\\\n",
       "\t5 & 265293 &      4 &    NA &      0 &     NA &     NA &    NA &     NA &    NA &     NA & ⋯ &    NA &    NA &     NA &     NA &    NA &    NA &    NA &    NA &    NA &     NA\\\\\n",
       "\t6 &  47671 &      0 &    NA &     NA &     NA &     NA &    NA &     NA &    NA &     NA & ⋯ &    NA &    NA &     NA &     NA &    NA &    NA &    NA &    NA &    NA &     NA\\\\\n",
       "\\end{tabular}\n"
      ],
      "text/markdown": [
       "\n",
       "A data.frame: 6 × 100\n",
       "\n",
       "| <!--/--> | taxonomy_id &lt;int&gt; | 090743N-COPD &lt;int&gt; | 090815N-COPD &lt;int&gt; | 103907N-COPD &lt;int&gt; | 1047-COPD &lt;int&gt; | 1088-COPD &lt;int&gt; | 1092-COPD &lt;int&gt; | 1141-COPD &lt;int&gt; | 12-COPD &lt;int&gt; | 1332-COPD &lt;int&gt; | ⋯ ⋯ | 578-COPD &lt;int&gt; | 634-COPD &lt;int&gt; | 648-COPD &lt;int&gt; | 704-COPD &lt;int&gt; | 743-COPD &lt;int&gt; | 815-COPD &lt;int&gt; | 821-COPD &lt;int&gt; | 852-COPD &lt;int&gt; | 964-COPD &lt;int&gt; | 984-COPD &lt;int&gt; |\n",
       "|---|---|---|---|---|---|---|---|---|---|---|---|---|---|---|---|---|---|---|---|---|---|\n",
       "| 1 |   9606 | 141001 | 77904 | 118068 | 121899 | 118496 | 94562 | 142023 | 83117 | 166510 | ⋯ | 82347 | 92820 | 186179 | 160289 | 97501 | 93777 | 89842 | 70103 | 89149 | 174085 |\n",
       "| 2 |    305 |   1453 |    51 |    221 |     16 |     15 |    36 |     20 |    43 |     21 | ⋯ |    18 |    43 |      6 |     11 |    23 |    31 |    29 |   122 |     9 |    511 |\n",
       "| 3 | 105219 |      1 |    NA |     NA |     NA |     NA |    NA |     NA |    NA |     NA | ⋯ |    NA |    NA |     NA |     NA |    NA |    NA |    NA |    NA |    NA |     NA |\n",
       "| 4 |  82541 |      6 |    NA |     NA |     NA |     NA |    NA |     NA |    NA |     NA | ⋯ |    NA |    NA |     NA |     NA |    NA |    NA |    NA |    NA |    NA |     NA |\n",
       "| 5 | 265293 |      4 |    NA |      0 |     NA |     NA |    NA |     NA |    NA |     NA | ⋯ |    NA |    NA |     NA |     NA |    NA |    NA |    NA |    NA |    NA |     NA |\n",
       "| 6 |  47671 |      0 |    NA |     NA |     NA |     NA |    NA |     NA |    NA |     NA | ⋯ |    NA |    NA |     NA |     NA |    NA |    NA |    NA |    NA |    NA |     NA |\n",
       "\n"
      ],
      "text/plain": [
       "  taxonomy_id 090743N-COPD 090815N-COPD 103907N-COPD 1047-COPD 1088-COPD\n",
       "1   9606      141001       77904        118068       121899    118496   \n",
       "2    305        1453          51           221           16        15   \n",
       "3 105219           1          NA            NA           NA        NA   \n",
       "4  82541           6          NA            NA           NA        NA   \n",
       "5 265293           4          NA             0           NA        NA   \n",
       "6  47671           0          NA            NA           NA        NA   \n",
       "  1092-COPD 1141-COPD 12-COPD 1332-COPD ⋯ 578-COPD 634-COPD 648-COPD 704-COPD\n",
       "1 94562     142023    83117   166510    ⋯ 82347    92820    186179   160289  \n",
       "2    36         20       43       21    ⋯    18       43         6       11  \n",
       "3    NA         NA       NA       NA    ⋯    NA       NA        NA       NA  \n",
       "4    NA         NA       NA       NA    ⋯    NA       NA        NA       NA  \n",
       "5    NA         NA       NA       NA    ⋯    NA       NA        NA       NA  \n",
       "6    NA         NA       NA       NA    ⋯    NA       NA        NA       NA  \n",
       "  743-COPD 815-COPD 821-COPD 852-COPD 964-COPD 984-COPD\n",
       "1 97501    93777    89842    70103    89149    174085  \n",
       "2    23       31       29      122        9       511  \n",
       "3    NA       NA       NA       NA       NA        NA  \n",
       "4    NA       NA       NA       NA       NA        NA  \n",
       "5    NA       NA       NA       NA       NA        NA  \n",
       "6    NA       NA       NA       NA       NA        NA  "
      ]
     },
     "metadata": {},
     "output_type": "display_data"
    }
   ],
   "source": [
    "head(copdTab)"
   ]
  },
  {
   "cell_type": "code",
   "execution_count": 28,
   "id": "99ea4780-f314-442a-9b0a-e8ca5436ead5",
   "metadata": {},
   "outputs": [
    {
     "data": {
      "text/html": [
       "<style>\n",
       ".list-inline {list-style: none; margin:0; padding: 0}\n",
       ".list-inline>li {display: inline-block}\n",
       ".list-inline>li:not(:last-child)::after {content: \"\\00b7\"; padding: 0 .5ex}\n",
       "</style>\n",
       "<ol class=list-inline><li>'1017-NOR'</li><li>'1079-NOR'</li><li>'1083-NOR'</li><li>'110-NOR'</li><li>'1125-NOR'</li><li>'1199-NOR'</li></ol>\n"
      ],
      "text/latex": [
       "\\begin{enumerate*}\n",
       "\\item '1017-NOR'\n",
       "\\item '1079-NOR'\n",
       "\\item '1083-NOR'\n",
       "\\item '110-NOR'\n",
       "\\item '1125-NOR'\n",
       "\\item '1199-NOR'\n",
       "\\end{enumerate*}\n"
      ],
      "text/markdown": [
       "1. '1017-NOR'\n",
       "2. '1079-NOR'\n",
       "3. '1083-NOR'\n",
       "4. '110-NOR'\n",
       "5. '1125-NOR'\n",
       "6. '1199-NOR'\n",
       "\n",
       "\n"
      ],
      "text/plain": [
       "[1] \"1017-NOR\" \"1079-NOR\" \"1083-NOR\" \"110-NOR\"  \"1125-NOR\" \"1199-NOR\""
      ]
     },
     "metadata": {},
     "output_type": "display_data"
    }
   ],
   "source": [
    "wd <- \"/mnt/gmi-analysis01/_90.User_Data/juhyunk/project/Lung_Virome/YM\"\n",
    "nor <- dir(paste0(wd,\"/Normal\"))[grep(\"-NOR\",dir(paste0(wd,\"/Normal\")))]\n",
    "head(nor)"
   ]
  },
  {
   "cell_type": "code",
   "execution_count": 29,
   "id": "c34cda0c-aada-4975-942d-665134e31df2",
   "metadata": {},
   "outputs": [],
   "source": [
    "norTab <- data.frame()\n",
    "sample <- nor[1]\n",
    "norTab <- read.table(paste0(wd,\"/Normal/\",sample,\"/Bracken/\",sample,\".Standard.bracken.out\"), sep = '\\t', header=T)[c(2)]\n",
    "\n",
    "for ( sample in nor) {\n",
    "    #sample <- gsub(\"-COPD\",\"\",sample)\n",
    "    # print(sample)\n",
    "    norTab0 <- read.table(paste0(wd,\"/Normal/\",sample,\"/Bracken/\",sample,\".Standard.bracken.out\"), sep = '\\t', header=T)[c(2,5)]\n",
    "    colnames(norTab0) <- c(\"taxonomy_id\",sample)\n",
    "    norTab <- full_join(norTab, norTab0,by = 'taxonomy_id')\n",
    "}"
   ]
  },
  {
   "cell_type": "code",
   "execution_count": 31,
   "id": "654934ab-db32-43d2-93aa-46b8d39390e5",
   "metadata": {},
   "outputs": [
    {
     "data": {
      "text/html": [
       "<table class=\"dataframe\">\n",
       "<caption>A data.frame: 6 × 94</caption>\n",
       "<thead>\n",
       "\t<tr><th></th><th scope=col>taxonomy_id</th><th scope=col>1017-NOR</th><th scope=col>1079-NOR</th><th scope=col>1083-NOR</th><th scope=col>110-NOR</th><th scope=col>1125-NOR</th><th scope=col>1199-NOR</th><th scope=col>1207-NOR</th><th scope=col>1264-NOR</th><th scope=col>1334-NOR</th><th scope=col>⋯</th><th scope=col>55-NOR</th><th scope=col>572-NOR</th><th scope=col>581-NOR</th><th scope=col>640-NOR</th><th scope=col>681-NOR</th><th scope=col>750-NOR</th><th scope=col>841-NOR</th><th scope=col>899-NOR</th><th scope=col>935-NOR</th><th scope=col>987-NOR</th></tr>\n",
       "\t<tr><th></th><th scope=col>&lt;int&gt;</th><th scope=col>&lt;int&gt;</th><th scope=col>&lt;int&gt;</th><th scope=col>&lt;int&gt;</th><th scope=col>&lt;int&gt;</th><th scope=col>&lt;int&gt;</th><th scope=col>&lt;int&gt;</th><th scope=col>&lt;int&gt;</th><th scope=col>&lt;int&gt;</th><th scope=col>&lt;int&gt;</th><th scope=col>⋯</th><th scope=col>&lt;int&gt;</th><th scope=col>&lt;int&gt;</th><th scope=col>&lt;int&gt;</th><th scope=col>&lt;int&gt;</th><th scope=col>&lt;int&gt;</th><th scope=col>&lt;int&gt;</th><th scope=col>&lt;int&gt;</th><th scope=col>&lt;int&gt;</th><th scope=col>&lt;int&gt;</th><th scope=col>&lt;int&gt;</th></tr>\n",
       "</thead>\n",
       "<tbody>\n",
       "\t<tr><th scope=row>1</th><td>   9606</td><td>84166</td><td>81787</td><td>125946</td><td>68755</td><td>106364</td><td>100184</td><td>120292</td><td>116135</td><td>58953</td><td>⋯</td><td>115115</td><td>79191</td><td>81343</td><td>64130</td><td>161352</td><td>66752</td><td>389623</td><td>57047</td><td>83185</td><td>71617</td></tr>\n",
       "\t<tr><th scope=row>2</th><td>    305</td><td>  229</td><td>   87</td><td>   638</td><td>  135</td><td>   635</td><td>   350</td><td>  1516</td><td>    10</td><td>  197</td><td>⋯</td><td>    81</td><td>   17</td><td>   71</td><td>    7</td><td>   508</td><td>  516</td><td>   977</td><td>   11</td><td>  120</td><td>   14</td></tr>\n",
       "\t<tr><th scope=row>3</th><td>  96344</td><td>    1</td><td>   NA</td><td>     5</td><td>   10</td><td>     4</td><td>     2</td><td>   221</td><td>     4</td><td>    3</td><td>⋯</td><td>     8</td><td>   NA</td><td>    4</td><td>    2</td><td>     9</td><td>    8</td><td>    71</td><td>    3</td><td>    8</td><td>    3</td></tr>\n",
       "\t<tr><th scope=row>4</th><td> 164546</td><td>    0</td><td>    2</td><td>    NA</td><td>   NA</td><td>     3</td><td>     0</td><td>     0</td><td>    NA</td><td>   NA</td><td>⋯</td><td>    NA</td><td>   NA</td><td>   NA</td><td>   NA</td><td>     4</td><td>   NA</td><td>     4</td><td>   NA</td><td>   NA</td><td>   NA</td></tr>\n",
       "\t<tr><th scope=row>5</th><td> 134537</td><td>    0</td><td>    1</td><td>    NA</td><td>   NA</td><td>    NA</td><td>    NA</td><td>    NA</td><td>     0</td><td>    0</td><td>⋯</td><td>     1</td><td>   NA</td><td>    1</td><td>   NA</td><td>     0</td><td>   NA</td><td>    NA</td><td>    0</td><td>   NA</td><td>    0</td></tr>\n",
       "\t<tr><th scope=row>6</th><td>2184519</td><td>    5</td><td>    1</td><td>    NA</td><td>    3</td><td>     7</td><td>     4</td><td>    16</td><td>     4</td><td>    0</td><td>⋯</td><td>     1</td><td>    2</td><td>    0</td><td>    1</td><td>     7</td><td>   12</td><td>    59</td><td>   NA</td><td>    5</td><td>    5</td></tr>\n",
       "</tbody>\n",
       "</table>\n"
      ],
      "text/latex": [
       "A data.frame: 6 × 94\n",
       "\\begin{tabular}{r|lllllllllllllllllllll}\n",
       "  & taxonomy\\_id & 1017-NOR & 1079-NOR & 1083-NOR & 110-NOR & 1125-NOR & 1199-NOR & 1207-NOR & 1264-NOR & 1334-NOR & ⋯ & 55-NOR & 572-NOR & 581-NOR & 640-NOR & 681-NOR & 750-NOR & 841-NOR & 899-NOR & 935-NOR & 987-NOR\\\\\n",
       "  & <int> & <int> & <int> & <int> & <int> & <int> & <int> & <int> & <int> & <int> & ⋯ & <int> & <int> & <int> & <int> & <int> & <int> & <int> & <int> & <int> & <int>\\\\\n",
       "\\hline\n",
       "\t1 &    9606 & 84166 & 81787 & 125946 & 68755 & 106364 & 100184 & 120292 & 116135 & 58953 & ⋯ & 115115 & 79191 & 81343 & 64130 & 161352 & 66752 & 389623 & 57047 & 83185 & 71617\\\\\n",
       "\t2 &     305 &   229 &    87 &    638 &   135 &    635 &    350 &   1516 &     10 &   197 & ⋯ &     81 &    17 &    71 &     7 &    508 &   516 &    977 &    11 &   120 &    14\\\\\n",
       "\t3 &   96344 &     1 &    NA &      5 &    10 &      4 &      2 &    221 &      4 &     3 & ⋯ &      8 &    NA &     4 &     2 &      9 &     8 &     71 &     3 &     8 &     3\\\\\n",
       "\t4 &  164546 &     0 &     2 &     NA &    NA &      3 &      0 &      0 &     NA &    NA & ⋯ &     NA &    NA &    NA &    NA &      4 &    NA &      4 &    NA &    NA &    NA\\\\\n",
       "\t5 &  134537 &     0 &     1 &     NA &    NA &     NA &     NA &     NA &      0 &     0 & ⋯ &      1 &    NA &     1 &    NA &      0 &    NA &     NA &     0 &    NA &     0\\\\\n",
       "\t6 & 2184519 &     5 &     1 &     NA &     3 &      7 &      4 &     16 &      4 &     0 & ⋯ &      1 &     2 &     0 &     1 &      7 &    12 &     59 &    NA &     5 &     5\\\\\n",
       "\\end{tabular}\n"
      ],
      "text/markdown": [
       "\n",
       "A data.frame: 6 × 94\n",
       "\n",
       "| <!--/--> | taxonomy_id &lt;int&gt; | 1017-NOR &lt;int&gt; | 1079-NOR &lt;int&gt; | 1083-NOR &lt;int&gt; | 110-NOR &lt;int&gt; | 1125-NOR &lt;int&gt; | 1199-NOR &lt;int&gt; | 1207-NOR &lt;int&gt; | 1264-NOR &lt;int&gt; | 1334-NOR &lt;int&gt; | ⋯ ⋯ | 55-NOR &lt;int&gt; | 572-NOR &lt;int&gt; | 581-NOR &lt;int&gt; | 640-NOR &lt;int&gt; | 681-NOR &lt;int&gt; | 750-NOR &lt;int&gt; | 841-NOR &lt;int&gt; | 899-NOR &lt;int&gt; | 935-NOR &lt;int&gt; | 987-NOR &lt;int&gt; |\n",
       "|---|---|---|---|---|---|---|---|---|---|---|---|---|---|---|---|---|---|---|---|---|---|\n",
       "| 1 |    9606 | 84166 | 81787 | 125946 | 68755 | 106364 | 100184 | 120292 | 116135 | 58953 | ⋯ | 115115 | 79191 | 81343 | 64130 | 161352 | 66752 | 389623 | 57047 | 83185 | 71617 |\n",
       "| 2 |     305 |   229 |    87 |    638 |   135 |    635 |    350 |   1516 |     10 |   197 | ⋯ |     81 |    17 |    71 |     7 |    508 |   516 |    977 |    11 |   120 |    14 |\n",
       "| 3 |   96344 |     1 |    NA |      5 |    10 |      4 |      2 |    221 |      4 |     3 | ⋯ |      8 |    NA |     4 |     2 |      9 |     8 |     71 |     3 |     8 |     3 |\n",
       "| 4 |  164546 |     0 |     2 |     NA |    NA |      3 |      0 |      0 |     NA |    NA | ⋯ |     NA |    NA |    NA |    NA |      4 |    NA |      4 |    NA |    NA |    NA |\n",
       "| 5 |  134537 |     0 |     1 |     NA |    NA |     NA |     NA |     NA |      0 |     0 | ⋯ |      1 |    NA |     1 |    NA |      0 |    NA |     NA |     0 |    NA |     0 |\n",
       "| 6 | 2184519 |     5 |     1 |     NA |     3 |      7 |      4 |     16 |      4 |     0 | ⋯ |      1 |     2 |     0 |     1 |      7 |    12 |     59 |    NA |     5 |     5 |\n",
       "\n"
      ],
      "text/plain": [
       "  taxonomy_id 1017-NOR 1079-NOR 1083-NOR 110-NOR 1125-NOR 1199-NOR 1207-NOR\n",
       "1    9606     84166    81787    125946   68755   106364   100184   120292  \n",
       "2     305       229       87       638     135      635      350     1516  \n",
       "3   96344         1       NA         5      10        4        2      221  \n",
       "4  164546         0        2        NA      NA        3        0        0  \n",
       "5  134537         0        1        NA      NA       NA       NA       NA  \n",
       "6 2184519         5        1        NA       3        7        4       16  \n",
       "  1264-NOR 1334-NOR ⋯ 55-NOR 572-NOR 581-NOR 640-NOR 681-NOR 750-NOR 841-NOR\n",
       "1 116135   58953    ⋯ 115115 79191   81343   64130   161352  66752   389623 \n",
       "2     10     197    ⋯     81    17      71       7      508    516      977 \n",
       "3      4       3    ⋯      8    NA       4       2        9      8       71 \n",
       "4     NA      NA    ⋯     NA    NA      NA      NA        4     NA        4 \n",
       "5      0       0    ⋯      1    NA       1      NA        0     NA       NA \n",
       "6      4       0    ⋯      1     2       0       1        7     12       59 \n",
       "  899-NOR 935-NOR 987-NOR\n",
       "1 57047   83185   71617  \n",
       "2    11     120      14  \n",
       "3     3       8       3  \n",
       "4    NA      NA      NA  \n",
       "5     0      NA       0  \n",
       "6    NA       5       5  "
      ]
     },
     "metadata": {},
     "output_type": "display_data"
    }
   ],
   "source": [
    "head(norTab)"
   ]
  },
  {
   "cell_type": "code",
   "execution_count": 120,
   "id": "43d1b95a-8988-4712-8ff1-740cfcdce4e5",
   "metadata": {},
   "outputs": [],
   "source": [
    "system(paste0(\"cat \",wd,\"/*/*/Bracken/*.Standard.bracken.out | cut -f 1,2 | sort | uniq > \", wd,\"/tmp.header.txt\"))\n",
    "matchTable <- read.table(paste0(wd,\"/tmp.header.txt\"), sep ='\\t')\n",
    "colnames(matchTable) <- c(\"name\",\"taxonomy_id\")"
   ]
  },
  {
   "cell_type": "code",
   "execution_count": 121,
   "id": "78bd6d8c-df7d-46e5-a722-eb48db1fbe7f",
   "metadata": {},
   "outputs": [],
   "source": [
    "copdTab$taxonomy_id <- as.character(copdTab$taxonomy_id)\n",
    "norTab$taxonomy_id <- as.character(norTab$taxonomy_id)\n",
    "matchTable$taxonomy_id <- as.character(matchTable$taxonomy_id)"
   ]
  },
  {
   "cell_type": "code",
   "execution_count": 126,
   "id": "b29a2a1f-320a-4206-9c98-4fe62e7a78cf",
   "metadata": {},
   "outputs": [],
   "source": [
    "finalTable <- full_join(matchTable,full_join(norTab, copdTab,by = \"taxonomy_id\"),by = \"taxonomy_id\")"
   ]
  },
  {
   "cell_type": "code",
   "execution_count": 127,
   "id": "2023b46d-1940-434b-a07c-18c24d6af274",
   "metadata": {},
   "outputs": [],
   "source": [
    "finalTable[is.na(finalTable)] <- 0"
   ]
  },
  {
   "cell_type": "code",
   "execution_count": 129,
   "id": "dd62fd37-4175-46fb-81cf-5f98e7626fa6",
   "metadata": {},
   "outputs": [
    {
     "data": {
      "text/html": [
       "<table class=\"dataframe\">\n",
       "<caption>A data.frame: 6 × 194</caption>\n",
       "<thead>\n",
       "\t<tr><th></th><th scope=col>name</th><th scope=col>taxonomy_id</th><th scope=col>1017-NOR</th><th scope=col>1079-NOR</th><th scope=col>1083-NOR</th><th scope=col>110-NOR</th><th scope=col>1125-NOR</th><th scope=col>1199-NOR</th><th scope=col>1207-NOR</th><th scope=col>1264-NOR</th><th scope=col>⋯</th><th scope=col>578-COPD</th><th scope=col>634-COPD</th><th scope=col>648-COPD</th><th scope=col>704-COPD</th><th scope=col>743-COPD</th><th scope=col>815-COPD</th><th scope=col>821-COPD</th><th scope=col>852-COPD</th><th scope=col>964-COPD</th><th scope=col>984-COPD</th></tr>\n",
       "\t<tr><th></th><th scope=col>&lt;chr&gt;</th><th scope=col>&lt;chr&gt;</th><th scope=col>&lt;dbl&gt;</th><th scope=col>&lt;dbl&gt;</th><th scope=col>&lt;dbl&gt;</th><th scope=col>&lt;dbl&gt;</th><th scope=col>&lt;dbl&gt;</th><th scope=col>&lt;dbl&gt;</th><th scope=col>&lt;dbl&gt;</th><th scope=col>&lt;dbl&gt;</th><th scope=col>⋯</th><th scope=col>&lt;dbl&gt;</th><th scope=col>&lt;dbl&gt;</th><th scope=col>&lt;dbl&gt;</th><th scope=col>&lt;dbl&gt;</th><th scope=col>&lt;dbl&gt;</th><th scope=col>&lt;dbl&gt;</th><th scope=col>&lt;dbl&gt;</th><th scope=col>&lt;dbl&gt;</th><th scope=col>&lt;dbl&gt;</th><th scope=col>&lt;dbl&gt;</th></tr>\n",
       "</thead>\n",
       "<tbody>\n",
       "\t<tr><th scope=row>1</th><td>Abiotrophia defectiva                 </td><td>46125  </td><td>0</td><td>0</td><td>0</td><td>0</td><td>0</td><td>0</td><td>0</td><td>0</td><td>⋯</td><td>0</td><td>0</td><td>0</td><td>0</td><td>0</td><td>0</td><td>0</td><td>0</td><td>0</td><td>0</td></tr>\n",
       "\t<tr><th scope=row>2</th><td>Achromobacter spanius                 </td><td>217203 </td><td>0</td><td>0</td><td>0</td><td>0</td><td>0</td><td>0</td><td>0</td><td>0</td><td>⋯</td><td>0</td><td>0</td><td>0</td><td>0</td><td>0</td><td>0</td><td>0</td><td>0</td><td>0</td><td>0</td></tr>\n",
       "\t<tr><th scope=row>3</th><td>Achromobacter xylosoxidans            </td><td>85698  </td><td>0</td><td>0</td><td>0</td><td>0</td><td>0</td><td>0</td><td>0</td><td>0</td><td>⋯</td><td>0</td><td>0</td><td>0</td><td>0</td><td>0</td><td>0</td><td>0</td><td>0</td><td>0</td><td>0</td></tr>\n",
       "\t<tr><th scope=row>4</th><td>Acidaminococcus fermentans            </td><td>905    </td><td>0</td><td>0</td><td>0</td><td>0</td><td>0</td><td>0</td><td>0</td><td>0</td><td>⋯</td><td>0</td><td>0</td><td>0</td><td>0</td><td>0</td><td>0</td><td>0</td><td>0</td><td>0</td><td>0</td></tr>\n",
       "\t<tr><th scope=row>5</th><td>Acidipropionibacterium acidipropionici</td><td>1748   </td><td>0</td><td>0</td><td>2</td><td>0</td><td>0</td><td>0</td><td>0</td><td>0</td><td>⋯</td><td>0</td><td>0</td><td>0</td><td>0</td><td>0</td><td>0</td><td>0</td><td>0</td><td>0</td><td>0</td></tr>\n",
       "\t<tr><th scope=row>6</th><td>Acidisarcina polymorpha               </td><td>2211140</td><td>0</td><td>0</td><td>0</td><td>0</td><td>0</td><td>0</td><td>0</td><td>0</td><td>⋯</td><td>0</td><td>0</td><td>0</td><td>0</td><td>0</td><td>0</td><td>0</td><td>0</td><td>0</td><td>0</td></tr>\n",
       "</tbody>\n",
       "</table>\n"
      ],
      "text/latex": [
       "A data.frame: 6 × 194\n",
       "\\begin{tabular}{r|lllllllllllllllllllll}\n",
       "  & name & taxonomy\\_id & 1017-NOR & 1079-NOR & 1083-NOR & 110-NOR & 1125-NOR & 1199-NOR & 1207-NOR & 1264-NOR & ⋯ & 578-COPD & 634-COPD & 648-COPD & 704-COPD & 743-COPD & 815-COPD & 821-COPD & 852-COPD & 964-COPD & 984-COPD\\\\\n",
       "  & <chr> & <chr> & <dbl> & <dbl> & <dbl> & <dbl> & <dbl> & <dbl> & <dbl> & <dbl> & ⋯ & <dbl> & <dbl> & <dbl> & <dbl> & <dbl> & <dbl> & <dbl> & <dbl> & <dbl> & <dbl>\\\\\n",
       "\\hline\n",
       "\t1 & Abiotrophia defectiva                  & 46125   & 0 & 0 & 0 & 0 & 0 & 0 & 0 & 0 & ⋯ & 0 & 0 & 0 & 0 & 0 & 0 & 0 & 0 & 0 & 0\\\\\n",
       "\t2 & Achromobacter spanius                  & 217203  & 0 & 0 & 0 & 0 & 0 & 0 & 0 & 0 & ⋯ & 0 & 0 & 0 & 0 & 0 & 0 & 0 & 0 & 0 & 0\\\\\n",
       "\t3 & Achromobacter xylosoxidans             & 85698   & 0 & 0 & 0 & 0 & 0 & 0 & 0 & 0 & ⋯ & 0 & 0 & 0 & 0 & 0 & 0 & 0 & 0 & 0 & 0\\\\\n",
       "\t4 & Acidaminococcus fermentans             & 905     & 0 & 0 & 0 & 0 & 0 & 0 & 0 & 0 & ⋯ & 0 & 0 & 0 & 0 & 0 & 0 & 0 & 0 & 0 & 0\\\\\n",
       "\t5 & Acidipropionibacterium acidipropionici & 1748    & 0 & 0 & 2 & 0 & 0 & 0 & 0 & 0 & ⋯ & 0 & 0 & 0 & 0 & 0 & 0 & 0 & 0 & 0 & 0\\\\\n",
       "\t6 & Acidisarcina polymorpha                & 2211140 & 0 & 0 & 0 & 0 & 0 & 0 & 0 & 0 & ⋯ & 0 & 0 & 0 & 0 & 0 & 0 & 0 & 0 & 0 & 0\\\\\n",
       "\\end{tabular}\n"
      ],
      "text/markdown": [
       "\n",
       "A data.frame: 6 × 194\n",
       "\n",
       "| <!--/--> | name &lt;chr&gt; | taxonomy_id &lt;chr&gt; | 1017-NOR &lt;dbl&gt; | 1079-NOR &lt;dbl&gt; | 1083-NOR &lt;dbl&gt; | 110-NOR &lt;dbl&gt; | 1125-NOR &lt;dbl&gt; | 1199-NOR &lt;dbl&gt; | 1207-NOR &lt;dbl&gt; | 1264-NOR &lt;dbl&gt; | ⋯ ⋯ | 578-COPD &lt;dbl&gt; | 634-COPD &lt;dbl&gt; | 648-COPD &lt;dbl&gt; | 704-COPD &lt;dbl&gt; | 743-COPD &lt;dbl&gt; | 815-COPD &lt;dbl&gt; | 821-COPD &lt;dbl&gt; | 852-COPD &lt;dbl&gt; | 964-COPD &lt;dbl&gt; | 984-COPD &lt;dbl&gt; |\n",
       "|---|---|---|---|---|---|---|---|---|---|---|---|---|---|---|---|---|---|---|---|---|---|\n",
       "| 1 | Abiotrophia defectiva                  | 46125   | 0 | 0 | 0 | 0 | 0 | 0 | 0 | 0 | ⋯ | 0 | 0 | 0 | 0 | 0 | 0 | 0 | 0 | 0 | 0 |\n",
       "| 2 | Achromobacter spanius                  | 217203  | 0 | 0 | 0 | 0 | 0 | 0 | 0 | 0 | ⋯ | 0 | 0 | 0 | 0 | 0 | 0 | 0 | 0 | 0 | 0 |\n",
       "| 3 | Achromobacter xylosoxidans             | 85698   | 0 | 0 | 0 | 0 | 0 | 0 | 0 | 0 | ⋯ | 0 | 0 | 0 | 0 | 0 | 0 | 0 | 0 | 0 | 0 |\n",
       "| 4 | Acidaminococcus fermentans             | 905     | 0 | 0 | 0 | 0 | 0 | 0 | 0 | 0 | ⋯ | 0 | 0 | 0 | 0 | 0 | 0 | 0 | 0 | 0 | 0 |\n",
       "| 5 | Acidipropionibacterium acidipropionici | 1748    | 0 | 0 | 2 | 0 | 0 | 0 | 0 | 0 | ⋯ | 0 | 0 | 0 | 0 | 0 | 0 | 0 | 0 | 0 | 0 |\n",
       "| 6 | Acidisarcina polymorpha                | 2211140 | 0 | 0 | 0 | 0 | 0 | 0 | 0 | 0 | ⋯ | 0 | 0 | 0 | 0 | 0 | 0 | 0 | 0 | 0 | 0 |\n",
       "\n"
      ],
      "text/plain": [
       "  name                                   taxonomy_id 1017-NOR 1079-NOR 1083-NOR\n",
       "1 Abiotrophia defectiva                  46125       0        0        0       \n",
       "2 Achromobacter spanius                  217203      0        0        0       \n",
       "3 Achromobacter xylosoxidans             85698       0        0        0       \n",
       "4 Acidaminococcus fermentans             905         0        0        0       \n",
       "5 Acidipropionibacterium acidipropionici 1748        0        0        2       \n",
       "6 Acidisarcina polymorpha                2211140     0        0        0       \n",
       "  110-NOR 1125-NOR 1199-NOR 1207-NOR 1264-NOR ⋯ 578-COPD 634-COPD 648-COPD\n",
       "1 0       0        0        0        0        ⋯ 0        0        0       \n",
       "2 0       0        0        0        0        ⋯ 0        0        0       \n",
       "3 0       0        0        0        0        ⋯ 0        0        0       \n",
       "4 0       0        0        0        0        ⋯ 0        0        0       \n",
       "5 0       0        0        0        0        ⋯ 0        0        0       \n",
       "6 0       0        0        0        0        ⋯ 0        0        0       \n",
       "  704-COPD 743-COPD 815-COPD 821-COPD 852-COPD 964-COPD 984-COPD\n",
       "1 0        0        0        0        0        0        0       \n",
       "2 0        0        0        0        0        0        0       \n",
       "3 0        0        0        0        0        0        0       \n",
       "4 0        0        0        0        0        0        0       \n",
       "5 0        0        0        0        0        0        0       \n",
       "6 0        0        0        0        0        0        0       "
      ]
     },
     "metadata": {},
     "output_type": "display_data"
    }
   ],
   "source": [
    "head(finalTable)"
   ]
  },
  {
   "cell_type": "code",
   "execution_count": 133,
   "id": "29566c54-c50b-4bb1-96e6-6f85b8164a53",
   "metadata": {},
   "outputs": [],
   "source": [
    "write.table(finalTable,paste0(wd, \"/COPD.NOR.Bracken.Standard.txt\"),sep='\\t',quote = F, row.names = F)"
   ]
  },
  {
   "cell_type": "code",
   "execution_count": null,
   "id": "710ba248-5c42-41a6-8033-3de97a655569",
   "metadata": {},
   "outputs": [],
   "source": []
  }
 ],
 "metadata": {
  "kernelspec": {
   "display_name": "R",
   "language": "R",
   "name": "ir"
  },
  "language_info": {
   "codemirror_mode": "r",
   "file_extension": ".r",
   "mimetype": "text/x-r-source",
   "name": "R",
   "pygments_lexer": "r",
   "version": "4.1.3"
  }
 },
 "nbformat": 4,
 "nbformat_minor": 5
}
