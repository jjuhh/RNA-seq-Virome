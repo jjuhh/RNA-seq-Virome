{
 "cells": [
  {
   "cell_type": "code",
   "execution_count": 134,
   "id": "15b1b08b-ee20-470f-892f-df5eb0e53699",
   "metadata": {},
   "outputs": [],
   "source": [
    "library(dplyr)"
   ]
  },
  {
   "cell_type": "code",
   "execution_count": 135,
   "id": "7184f2c8-dd5f-40dc-97db-eef98dad6cf1",
   "metadata": {},
   "outputs": [
    {
     "data": {
      "text/html": [
       "<style>\n",
       ".list-inline {list-style: none; margin:0; padding: 0}\n",
       ".list-inline>li {display: inline-block}\n",
       ".list-inline>li:not(:last-child)::after {content: \"\\00b7\"; padding: 0 .5ex}\n",
       "</style>\n",
       "<ol class=list-inline><li>'090743N-COPD'</li><li>'090815N-COPD'</li><li>'103907N-COPD'</li><li>'1047-COPD'</li><li>'1088-COPD'</li><li>'1092-COPD'</li></ol>\n"
      ],
      "text/latex": [
       "\\begin{enumerate*}\n",
       "\\item '090743N-COPD'\n",
       "\\item '090815N-COPD'\n",
       "\\item '103907N-COPD'\n",
       "\\item '1047-COPD'\n",
       "\\item '1088-COPD'\n",
       "\\item '1092-COPD'\n",
       "\\end{enumerate*}\n"
      ],
      "text/markdown": [
       "1. '090743N-COPD'\n",
       "2. '090815N-COPD'\n",
       "3. '103907N-COPD'\n",
       "4. '1047-COPD'\n",
       "5. '1088-COPD'\n",
       "6. '1092-COPD'\n",
       "\n",
       "\n"
      ],
      "text/plain": [
       "[1] \"090743N-COPD\" \"090815N-COPD\" \"103907N-COPD\" \"1047-COPD\"    \"1088-COPD\"   \n",
       "[6] \"1092-COPD\"   "
      ]
     },
     "metadata": {},
     "output_type": "display_data"
    }
   ],
   "source": [
    "wd <- \"/mnt/gmi-analysis01/_90.User_Data/juhyunk/project/Lung_Virome/YM\"\n",
    "copd <- dir(paste0(wd,\"/COPD\"))[grep(\"-COPD\",dir(paste0(wd,\"/COPD\")))]\n",
    "head(copd)"
   ]
  },
  {
   "cell_type": "code",
   "execution_count": 137,
   "id": "e055a682-8cfc-4f0d-b930-ab6e2a4b503b",
   "metadata": {},
   "outputs": [],
   "source": [
    "copdTab <- data.frame()\n",
    "sample <- \"090743N\"\n",
    "copdTab <- read.table(paste0(wd,\"/COPD/\",sample,\"-COPD/Bracken/\",sample,\"-COPD.Standard.bracken.out\"), sep = '\\t', header=T)[c(2)]\n",
    "\n",
    "for ( sample in copd) {\n",
    "    #sample <- gsub(\"-COPD\",\"\",sample)\n",
    "    # print(sample)\n",
    "    copdTab0 <- read.table(paste0(wd,\"/COPD/\",sample,\"/Bracken/\",sample,\".Standard.bracken.out\"), sep = '\\t', header=T)[c(2,6)]\n",
    "    colnames(copdTab0) <- c(\"taxonomy_id\",sample)\n",
    "    copdTab <- full_join(copdTab, copdTab0,by = 'taxonomy_id')\n",
    "}"
   ]
  },
  {
   "cell_type": "code",
   "execution_count": 138,
   "id": "634b2909-3700-4b18-a35f-091cf171619a",
   "metadata": {},
   "outputs": [
    {
     "data": {
      "text/html": [
       "<table class=\"dataframe\">\n",
       "<caption>A data.frame: 6 × 100</caption>\n",
       "<thead>\n",
       "\t<tr><th></th><th scope=col>taxonomy_id</th><th scope=col>090743N-COPD</th><th scope=col>090815N-COPD</th><th scope=col>103907N-COPD</th><th scope=col>1047-COPD</th><th scope=col>1088-COPD</th><th scope=col>1092-COPD</th><th scope=col>1141-COPD</th><th scope=col>12-COPD</th><th scope=col>1332-COPD</th><th scope=col>⋯</th><th scope=col>578-COPD</th><th scope=col>634-COPD</th><th scope=col>648-COPD</th><th scope=col>704-COPD</th><th scope=col>743-COPD</th><th scope=col>815-COPD</th><th scope=col>821-COPD</th><th scope=col>852-COPD</th><th scope=col>964-COPD</th><th scope=col>984-COPD</th></tr>\n",
       "\t<tr><th></th><th scope=col>&lt;int&gt;</th><th scope=col>&lt;int&gt;</th><th scope=col>&lt;int&gt;</th><th scope=col>&lt;int&gt;</th><th scope=col>&lt;int&gt;</th><th scope=col>&lt;int&gt;</th><th scope=col>&lt;int&gt;</th><th scope=col>&lt;int&gt;</th><th scope=col>&lt;int&gt;</th><th scope=col>&lt;int&gt;</th><th scope=col>⋯</th><th scope=col>&lt;int&gt;</th><th scope=col>&lt;int&gt;</th><th scope=col>&lt;int&gt;</th><th scope=col>&lt;int&gt;</th><th scope=col>&lt;int&gt;</th><th scope=col>&lt;int&gt;</th><th scope=col>&lt;int&gt;</th><th scope=col>&lt;int&gt;</th><th scope=col>&lt;int&gt;</th><th scope=col>&lt;int&gt;</th></tr>\n",
       "</thead>\n",
       "<tbody>\n",
       "\t<tr><th scope=row>1</th><td>  9606</td><td>1465155</td><td>1763574</td><td>1279781</td><td>2422688</td><td>2275810</td><td>2105480</td><td>2122402</td><td>3332101</td><td>1958977</td><td>⋯</td><td>1409723</td><td>2307327</td><td>1997532</td><td>1864756</td><td>3072239</td><td>1624804</td><td>2250511</td><td>1598926</td><td>1957495</td><td>1588152</td></tr>\n",
       "\t<tr><th scope=row>2</th><td>   305</td><td>  25205</td><td>    455</td><td>   1565</td><td>    173</td><td>    130</td><td>    387</td><td>    152</td><td>    236</td><td>    175</td><td>⋯</td><td>    119</td><td>    429</td><td>     48</td><td>     88</td><td>    249</td><td>    308</td><td>    358</td><td>   1304</td><td>    238</td><td>   6941</td></tr>\n",
       "\t<tr><th scope=row>3</th><td>105219</td><td>     15</td><td>     NA</td><td>     NA</td><td>     NA</td><td>     NA</td><td>     NA</td><td>     NA</td><td>     NA</td><td>     NA</td><td>⋯</td><td>     NA</td><td>     NA</td><td>     NA</td><td>     NA</td><td>     NA</td><td>     NA</td><td>     NA</td><td>     NA</td><td>     NA</td><td>     NA</td></tr>\n",
       "\t<tr><th scope=row>4</th><td> 82541</td><td>     16</td><td>     NA</td><td>     NA</td><td>     NA</td><td>     NA</td><td>     NA</td><td>     NA</td><td>     NA</td><td>     NA</td><td>⋯</td><td>     NA</td><td>     NA</td><td>     NA</td><td>     NA</td><td>     NA</td><td>     NA</td><td>     NA</td><td>     NA</td><td>     NA</td><td>     NA</td></tr>\n",
       "\t<tr><th scope=row>5</th><td>265293</td><td>     16</td><td>     NA</td><td>     11</td><td>     NA</td><td>     NA</td><td>     NA</td><td>     NA</td><td>     NA</td><td>     NA</td><td>⋯</td><td>     NA</td><td>     NA</td><td>     NA</td><td>     NA</td><td>     NA</td><td>     NA</td><td>     NA</td><td>     NA</td><td>     NA</td><td>     NA</td></tr>\n",
       "\t<tr><th scope=row>6</th><td> 47671</td><td>     12</td><td>     NA</td><td>     NA</td><td>     NA</td><td>     NA</td><td>     NA</td><td>     NA</td><td>     NA</td><td>     NA</td><td>⋯</td><td>     NA</td><td>     NA</td><td>     NA</td><td>     NA</td><td>     NA</td><td>     NA</td><td>     NA</td><td>     NA</td><td>     NA</td><td>     NA</td></tr>\n",
       "</tbody>\n",
       "</table>\n"
      ],
      "text/latex": [
       "A data.frame: 6 × 100\n",
       "\\begin{tabular}{r|lllllllllllllllllllll}\n",
       "  & taxonomy\\_id & 090743N-COPD & 090815N-COPD & 103907N-COPD & 1047-COPD & 1088-COPD & 1092-COPD & 1141-COPD & 12-COPD & 1332-COPD & ⋯ & 578-COPD & 634-COPD & 648-COPD & 704-COPD & 743-COPD & 815-COPD & 821-COPD & 852-COPD & 964-COPD & 984-COPD\\\\\n",
       "  & <int> & <int> & <int> & <int> & <int> & <int> & <int> & <int> & <int> & <int> & ⋯ & <int> & <int> & <int> & <int> & <int> & <int> & <int> & <int> & <int> & <int>\\\\\n",
       "\\hline\n",
       "\t1 &   9606 & 1465155 & 1763574 & 1279781 & 2422688 & 2275810 & 2105480 & 2122402 & 3332101 & 1958977 & ⋯ & 1409723 & 2307327 & 1997532 & 1864756 & 3072239 & 1624804 & 2250511 & 1598926 & 1957495 & 1588152\\\\\n",
       "\t2 &    305 &   25205 &     455 &    1565 &     173 &     130 &     387 &     152 &     236 &     175 & ⋯ &     119 &     429 &      48 &      88 &     249 &     308 &     358 &    1304 &     238 &    6941\\\\\n",
       "\t3 & 105219 &      15 &      NA &      NA &      NA &      NA &      NA &      NA &      NA &      NA & ⋯ &      NA &      NA &      NA &      NA &      NA &      NA &      NA &      NA &      NA &      NA\\\\\n",
       "\t4 &  82541 &      16 &      NA &      NA &      NA &      NA &      NA &      NA &      NA &      NA & ⋯ &      NA &      NA &      NA &      NA &      NA &      NA &      NA &      NA &      NA &      NA\\\\\n",
       "\t5 & 265293 &      16 &      NA &      11 &      NA &      NA &      NA &      NA &      NA &      NA & ⋯ &      NA &      NA &      NA &      NA &      NA &      NA &      NA &      NA &      NA &      NA\\\\\n",
       "\t6 &  47671 &      12 &      NA &      NA &      NA &      NA &      NA &      NA &      NA &      NA & ⋯ &      NA &      NA &      NA &      NA &      NA &      NA &      NA &      NA &      NA &      NA\\\\\n",
       "\\end{tabular}\n"
      ],
      "text/markdown": [
       "\n",
       "A data.frame: 6 × 100\n",
       "\n",
       "| <!--/--> | taxonomy_id &lt;int&gt; | 090743N-COPD &lt;int&gt; | 090815N-COPD &lt;int&gt; | 103907N-COPD &lt;int&gt; | 1047-COPD &lt;int&gt; | 1088-COPD &lt;int&gt; | 1092-COPD &lt;int&gt; | 1141-COPD &lt;int&gt; | 12-COPD &lt;int&gt; | 1332-COPD &lt;int&gt; | ⋯ ⋯ | 578-COPD &lt;int&gt; | 634-COPD &lt;int&gt; | 648-COPD &lt;int&gt; | 704-COPD &lt;int&gt; | 743-COPD &lt;int&gt; | 815-COPD &lt;int&gt; | 821-COPD &lt;int&gt; | 852-COPD &lt;int&gt; | 964-COPD &lt;int&gt; | 984-COPD &lt;int&gt; |\n",
       "|---|---|---|---|---|---|---|---|---|---|---|---|---|---|---|---|---|---|---|---|---|---|\n",
       "| 1 |   9606 | 1465155 | 1763574 | 1279781 | 2422688 | 2275810 | 2105480 | 2122402 | 3332101 | 1958977 | ⋯ | 1409723 | 2307327 | 1997532 | 1864756 | 3072239 | 1624804 | 2250511 | 1598926 | 1957495 | 1588152 |\n",
       "| 2 |    305 |   25205 |     455 |    1565 |     173 |     130 |     387 |     152 |     236 |     175 | ⋯ |     119 |     429 |      48 |      88 |     249 |     308 |     358 |    1304 |     238 |    6941 |\n",
       "| 3 | 105219 |      15 |      NA |      NA |      NA |      NA |      NA |      NA |      NA |      NA | ⋯ |      NA |      NA |      NA |      NA |      NA |      NA |      NA |      NA |      NA |      NA |\n",
       "| 4 |  82541 |      16 |      NA |      NA |      NA |      NA |      NA |      NA |      NA |      NA | ⋯ |      NA |      NA |      NA |      NA |      NA |      NA |      NA |      NA |      NA |      NA |\n",
       "| 5 | 265293 |      16 |      NA |      11 |      NA |      NA |      NA |      NA |      NA |      NA | ⋯ |      NA |      NA |      NA |      NA |      NA |      NA |      NA |      NA |      NA |      NA |\n",
       "| 6 |  47671 |      12 |      NA |      NA |      NA |      NA |      NA |      NA |      NA |      NA | ⋯ |      NA |      NA |      NA |      NA |      NA |      NA |      NA |      NA |      NA |      NA |\n",
       "\n"
      ],
      "text/plain": [
       "  taxonomy_id 090743N-COPD 090815N-COPD 103907N-COPD 1047-COPD 1088-COPD\n",
       "1   9606      1465155      1763574      1279781      2422688   2275810  \n",
       "2    305        25205          455         1565          173       130  \n",
       "3 105219           15           NA           NA           NA        NA  \n",
       "4  82541           16           NA           NA           NA        NA  \n",
       "5 265293           16           NA           11           NA        NA  \n",
       "6  47671           12           NA           NA           NA        NA  \n",
       "  1092-COPD 1141-COPD 12-COPD 1332-COPD ⋯ 578-COPD 634-COPD 648-COPD 704-COPD\n",
       "1 2105480   2122402   3332101 1958977   ⋯ 1409723  2307327  1997532  1864756 \n",
       "2     387       152       236     175   ⋯     119      429       48       88 \n",
       "3      NA        NA        NA      NA   ⋯      NA       NA       NA       NA \n",
       "4      NA        NA        NA      NA   ⋯      NA       NA       NA       NA \n",
       "5      NA        NA        NA      NA   ⋯      NA       NA       NA       NA \n",
       "6      NA        NA        NA      NA   ⋯      NA       NA       NA       NA \n",
       "  743-COPD 815-COPD 821-COPD 852-COPD 964-COPD 984-COPD\n",
       "1 3072239  1624804  2250511  1598926  1957495  1588152 \n",
       "2     249      308      358     1304      238     6941 \n",
       "3      NA       NA       NA       NA       NA       NA \n",
       "4      NA       NA       NA       NA       NA       NA \n",
       "5      NA       NA       NA       NA       NA       NA \n",
       "6      NA       NA       NA       NA       NA       NA "
      ]
     },
     "metadata": {},
     "output_type": "display_data"
    }
   ],
   "source": [
    "head(copdTab)"
   ]
  },
  {
   "cell_type": "code",
   "execution_count": 139,
   "id": "99ea4780-f314-442a-9b0a-e8ca5436ead5",
   "metadata": {},
   "outputs": [
    {
     "data": {
      "text/html": [
       "<style>\n",
       ".list-inline {list-style: none; margin:0; padding: 0}\n",
       ".list-inline>li {display: inline-block}\n",
       ".list-inline>li:not(:last-child)::after {content: \"\\00b7\"; padding: 0 .5ex}\n",
       "</style>\n",
       "<ol class=list-inline><li>'1017-NOR'</li><li>'1079-NOR'</li><li>'1083-NOR'</li><li>'110-NOR'</li><li>'1125-NOR'</li><li>'1199-NOR'</li></ol>\n"
      ],
      "text/latex": [
       "\\begin{enumerate*}\n",
       "\\item '1017-NOR'\n",
       "\\item '1079-NOR'\n",
       "\\item '1083-NOR'\n",
       "\\item '110-NOR'\n",
       "\\item '1125-NOR'\n",
       "\\item '1199-NOR'\n",
       "\\end{enumerate*}\n"
      ],
      "text/markdown": [
       "1. '1017-NOR'\n",
       "2. '1079-NOR'\n",
       "3. '1083-NOR'\n",
       "4. '110-NOR'\n",
       "5. '1125-NOR'\n",
       "6. '1199-NOR'\n",
       "\n",
       "\n"
      ],
      "text/plain": [
       "[1] \"1017-NOR\" \"1079-NOR\" \"1083-NOR\" \"110-NOR\"  \"1125-NOR\" \"1199-NOR\""
      ]
     },
     "metadata": {},
     "output_type": "display_data"
    }
   ],
   "source": [
    "wd <- \"/mnt/gmi-analysis01/_90.User_Data/juhyunk/project/Lung_Virome/YM\"\n",
    "nor <- dir(paste0(wd,\"/Normal\"))[grep(\"-NOR\",dir(paste0(wd,\"/Normal\")))]\n",
    "head(nor)"
   ]
  },
  {
   "cell_type": "code",
   "execution_count": 141,
   "id": "c34cda0c-aada-4975-942d-665134e31df2",
   "metadata": {},
   "outputs": [],
   "source": [
    "norTab <- data.frame()\n",
    "sample <- nor[1]\n",
    "norTab <- read.table(paste0(wd,\"/Normal/\",sample,\"/Bracken/\",sample,\".Standard.bracken.out\"), sep = '\\t', header=T)[c(2)]\n",
    "\n",
    "for ( sample in nor) {\n",
    "    #sample <- gsub(\"-COPD\",\"\",sample)\n",
    "    # print(sample)\n",
    "    norTab0 <- read.table(paste0(wd,\"/Normal/\",sample,\"/Bracken/\",sample,\".Standard.bracken.out\"), sep = '\\t', header=T)[c(2,6)]\n",
    "    colnames(norTab0) <- c(\"taxonomy_id\",sample)\n",
    "    norTab <- full_join(norTab, norTab0,by = 'taxonomy_id')\n",
    "}"
   ]
  },
  {
   "cell_type": "code",
   "execution_count": 142,
   "id": "654934ab-db32-43d2-93aa-46b8d39390e5",
   "metadata": {},
   "outputs": [
    {
     "data": {
      "text/html": [
       "<table class=\"dataframe\">\n",
       "<caption>A data.frame: 6 × 94</caption>\n",
       "<thead>\n",
       "\t<tr><th></th><th scope=col>taxonomy_id</th><th scope=col>1017-NOR</th><th scope=col>1079-NOR</th><th scope=col>1083-NOR</th><th scope=col>110-NOR</th><th scope=col>1125-NOR</th><th scope=col>1199-NOR</th><th scope=col>1207-NOR</th><th scope=col>1264-NOR</th><th scope=col>1334-NOR</th><th scope=col>⋯</th><th scope=col>55-NOR</th><th scope=col>572-NOR</th><th scope=col>581-NOR</th><th scope=col>640-NOR</th><th scope=col>681-NOR</th><th scope=col>750-NOR</th><th scope=col>841-NOR</th><th scope=col>899-NOR</th><th scope=col>935-NOR</th><th scope=col>987-NOR</th></tr>\n",
       "\t<tr><th></th><th scope=col>&lt;int&gt;</th><th scope=col>&lt;int&gt;</th><th scope=col>&lt;int&gt;</th><th scope=col>&lt;int&gt;</th><th scope=col>&lt;int&gt;</th><th scope=col>&lt;int&gt;</th><th scope=col>&lt;int&gt;</th><th scope=col>&lt;int&gt;</th><th scope=col>&lt;int&gt;</th><th scope=col>&lt;int&gt;</th><th scope=col>⋯</th><th scope=col>&lt;int&gt;</th><th scope=col>&lt;int&gt;</th><th scope=col>&lt;int&gt;</th><th scope=col>&lt;int&gt;</th><th scope=col>&lt;int&gt;</th><th scope=col>&lt;int&gt;</th><th scope=col>&lt;int&gt;</th><th scope=col>&lt;int&gt;</th><th scope=col>&lt;int&gt;</th><th scope=col>&lt;int&gt;</th></tr>\n",
       "</thead>\n",
       "<tbody>\n",
       "\t<tr><th scope=row>1</th><td>   9606</td><td>2151175</td><td>1542898</td><td>26714196</td><td>1886516</td><td>5787345</td><td>3267488</td><td>2103781</td><td>2066913</td><td>1887467</td><td>⋯</td><td>1884450</td><td>1531454</td><td>1620453</td><td>1850855</td><td>1700453</td><td>3535606</td><td>4866135</td><td>2673537</td><td>1704221</td><td>1814028</td></tr>\n",
       "\t<tr><th scope=row>2</th><td>    305</td><td>   1527</td><td>    543</td><td>    2788</td><td>   2720</td><td>  38918</td><td>  24966</td><td>  14964</td><td>    104</td><td>   2057</td><td>⋯</td><td>    680</td><td>    124</td><td>   1419</td><td>    117</td><td>   3827</td><td>   4402</td><td>   5793</td><td>    152</td><td>   1086</td><td>    985</td></tr>\n",
       "\t<tr><th scope=row>3</th><td>  96344</td><td>     26</td><td>     NA</td><td>      23</td><td>    154</td><td>     39</td><td>     83</td><td>    793</td><td>     51</td><td>     28</td><td>⋯</td><td>    221</td><td>     NA</td><td>     53</td><td>     78</td><td>     85</td><td>     23</td><td>    156</td><td>     92</td><td>     29</td><td>     30</td></tr>\n",
       "\t<tr><th scope=row>4</th><td> 164546</td><td>     17</td><td>     59</td><td>      NA</td><td>     NA</td><td>     34</td><td>     12</td><td>     16</td><td>     NA</td><td>     NA</td><td>⋯</td><td>     NA</td><td>     NA</td><td>     NA</td><td>     NA</td><td>     46</td><td>     NA</td><td>     19</td><td>     NA</td><td>     NA</td><td>     NA</td></tr>\n",
       "\t<tr><th scope=row>5</th><td> 134537</td><td>     31</td><td>     25</td><td>      NA</td><td>     NA</td><td>     NA</td><td>     NA</td><td>     NA</td><td>     13</td><td>     13</td><td>⋯</td><td>     15</td><td>     NA</td><td>     17</td><td>     NA</td><td>     17</td><td>     NA</td><td>     NA</td><td>     27</td><td>     NA</td><td>     23</td></tr>\n",
       "\t<tr><th scope=row>6</th><td>2184519</td><td>     63</td><td>     20</td><td>      NA</td><td>     16</td><td>     37</td><td>     87</td><td>     67</td><td>     23</td><td>     10</td><td>⋯</td><td>     14</td><td>     13</td><td>     16</td><td>     24</td><td>     43</td><td>     32</td><td>    190</td><td>     NA</td><td>     24</td><td>     15</td></tr>\n",
       "</tbody>\n",
       "</table>\n"
      ],
      "text/latex": [
       "A data.frame: 6 × 94\n",
       "\\begin{tabular}{r|lllllllllllllllllllll}\n",
       "  & taxonomy\\_id & 1017-NOR & 1079-NOR & 1083-NOR & 110-NOR & 1125-NOR & 1199-NOR & 1207-NOR & 1264-NOR & 1334-NOR & ⋯ & 55-NOR & 572-NOR & 581-NOR & 640-NOR & 681-NOR & 750-NOR & 841-NOR & 899-NOR & 935-NOR & 987-NOR\\\\\n",
       "  & <int> & <int> & <int> & <int> & <int> & <int> & <int> & <int> & <int> & <int> & ⋯ & <int> & <int> & <int> & <int> & <int> & <int> & <int> & <int> & <int> & <int>\\\\\n",
       "\\hline\n",
       "\t1 &    9606 & 2151175 & 1542898 & 26714196 & 1886516 & 5787345 & 3267488 & 2103781 & 2066913 & 1887467 & ⋯ & 1884450 & 1531454 & 1620453 & 1850855 & 1700453 & 3535606 & 4866135 & 2673537 & 1704221 & 1814028\\\\\n",
       "\t2 &     305 &    1527 &     543 &     2788 &    2720 &   38918 &   24966 &   14964 &     104 &    2057 & ⋯ &     680 &     124 &    1419 &     117 &    3827 &    4402 &    5793 &     152 &    1086 &     985\\\\\n",
       "\t3 &   96344 &      26 &      NA &       23 &     154 &      39 &      83 &     793 &      51 &      28 & ⋯ &     221 &      NA &      53 &      78 &      85 &      23 &     156 &      92 &      29 &      30\\\\\n",
       "\t4 &  164546 &      17 &      59 &       NA &      NA &      34 &      12 &      16 &      NA &      NA & ⋯ &      NA &      NA &      NA &      NA &      46 &      NA &      19 &      NA &      NA &      NA\\\\\n",
       "\t5 &  134537 &      31 &      25 &       NA &      NA &      NA &      NA &      NA &      13 &      13 & ⋯ &      15 &      NA &      17 &      NA &      17 &      NA &      NA &      27 &      NA &      23\\\\\n",
       "\t6 & 2184519 &      63 &      20 &       NA &      16 &      37 &      87 &      67 &      23 &      10 & ⋯ &      14 &      13 &      16 &      24 &      43 &      32 &     190 &      NA &      24 &      15\\\\\n",
       "\\end{tabular}\n"
      ],
      "text/markdown": [
       "\n",
       "A data.frame: 6 × 94\n",
       "\n",
       "| <!--/--> | taxonomy_id &lt;int&gt; | 1017-NOR &lt;int&gt; | 1079-NOR &lt;int&gt; | 1083-NOR &lt;int&gt; | 110-NOR &lt;int&gt; | 1125-NOR &lt;int&gt; | 1199-NOR &lt;int&gt; | 1207-NOR &lt;int&gt; | 1264-NOR &lt;int&gt; | 1334-NOR &lt;int&gt; | ⋯ ⋯ | 55-NOR &lt;int&gt; | 572-NOR &lt;int&gt; | 581-NOR &lt;int&gt; | 640-NOR &lt;int&gt; | 681-NOR &lt;int&gt; | 750-NOR &lt;int&gt; | 841-NOR &lt;int&gt; | 899-NOR &lt;int&gt; | 935-NOR &lt;int&gt; | 987-NOR &lt;int&gt; |\n",
       "|---|---|---|---|---|---|---|---|---|---|---|---|---|---|---|---|---|---|---|---|---|---|\n",
       "| 1 |    9606 | 2151175 | 1542898 | 26714196 | 1886516 | 5787345 | 3267488 | 2103781 | 2066913 | 1887467 | ⋯ | 1884450 | 1531454 | 1620453 | 1850855 | 1700453 | 3535606 | 4866135 | 2673537 | 1704221 | 1814028 |\n",
       "| 2 |     305 |    1527 |     543 |     2788 |    2720 |   38918 |   24966 |   14964 |     104 |    2057 | ⋯ |     680 |     124 |    1419 |     117 |    3827 |    4402 |    5793 |     152 |    1086 |     985 |\n",
       "| 3 |   96344 |      26 |      NA |       23 |     154 |      39 |      83 |     793 |      51 |      28 | ⋯ |     221 |      NA |      53 |      78 |      85 |      23 |     156 |      92 |      29 |      30 |\n",
       "| 4 |  164546 |      17 |      59 |       NA |      NA |      34 |      12 |      16 |      NA |      NA | ⋯ |      NA |      NA |      NA |      NA |      46 |      NA |      19 |      NA |      NA |      NA |\n",
       "| 5 |  134537 |      31 |      25 |       NA |      NA |      NA |      NA |      NA |      13 |      13 | ⋯ |      15 |      NA |      17 |      NA |      17 |      NA |      NA |      27 |      NA |      23 |\n",
       "| 6 | 2184519 |      63 |      20 |       NA |      16 |      37 |      87 |      67 |      23 |      10 | ⋯ |      14 |      13 |      16 |      24 |      43 |      32 |     190 |      NA |      24 |      15 |\n",
       "\n"
      ],
      "text/plain": [
       "  taxonomy_id 1017-NOR 1079-NOR 1083-NOR 110-NOR 1125-NOR 1199-NOR 1207-NOR\n",
       "1    9606     2151175  1542898  26714196 1886516 5787345  3267488  2103781 \n",
       "2     305        1527      543      2788    2720   38918    24966    14964 \n",
       "3   96344          26       NA        23     154      39       83      793 \n",
       "4  164546          17       59        NA      NA      34       12       16 \n",
       "5  134537          31       25        NA      NA      NA       NA       NA \n",
       "6 2184519          63       20        NA      16      37       87       67 \n",
       "  1264-NOR 1334-NOR ⋯ 55-NOR  572-NOR 581-NOR 640-NOR 681-NOR 750-NOR 841-NOR\n",
       "1 2066913  1887467  ⋯ 1884450 1531454 1620453 1850855 1700453 3535606 4866135\n",
       "2     104     2057  ⋯     680     124    1419     117    3827    4402    5793\n",
       "3      51       28  ⋯     221      NA      53      78      85      23     156\n",
       "4      NA       NA  ⋯      NA      NA      NA      NA      46      NA      19\n",
       "5      13       13  ⋯      15      NA      17      NA      17      NA      NA\n",
       "6      23       10  ⋯      14      13      16      24      43      32     190\n",
       "  899-NOR 935-NOR 987-NOR\n",
       "1 2673537 1704221 1814028\n",
       "2     152    1086     985\n",
       "3      92      29      30\n",
       "4      NA      NA      NA\n",
       "5      27      NA      23\n",
       "6      NA      24      15"
      ]
     },
     "metadata": {},
     "output_type": "display_data"
    }
   ],
   "source": [
    "head(norTab)"
   ]
  },
  {
   "cell_type": "code",
   "execution_count": 143,
   "id": "43d1b95a-8988-4712-8ff1-740cfcdce4e5",
   "metadata": {},
   "outputs": [],
   "source": [
    "system(paste0(\"cat \",wd,\"/*/*/Bracken/*.Standard.bracken.out | cut -f 1,2 | sort | uniq > \", wd,\"/tmp.header.txt\"))\n",
    "matchTable <- read.table(paste0(wd,\"/tmp.header.txt\"), sep ='\\t')\n",
    "colnames(matchTable) <- c(\"name\",\"taxonomy_id\")"
   ]
  },
  {
   "cell_type": "code",
   "execution_count": 144,
   "id": "78bd6d8c-df7d-46e5-a722-eb48db1fbe7f",
   "metadata": {},
   "outputs": [],
   "source": [
    "copdTab$taxonomy_id <- as.character(copdTab$taxonomy_id)\n",
    "norTab$taxonomy_id <- as.character(norTab$taxonomy_id)\n",
    "matchTable$taxonomy_id <- as.character(matchTable$taxonomy_id)"
   ]
  },
  {
   "cell_type": "code",
   "execution_count": 145,
   "id": "b29a2a1f-320a-4206-9c98-4fe62e7a78cf",
   "metadata": {},
   "outputs": [],
   "source": [
    "finalTable <- full_join(matchTable,full_join(norTab, copdTab,by = \"taxonomy_id\"),by = \"taxonomy_id\")"
   ]
  },
  {
   "cell_type": "code",
   "execution_count": 146,
   "id": "2023b46d-1940-434b-a07c-18c24d6af274",
   "metadata": {},
   "outputs": [],
   "source": [
    "finalTable[is.na(finalTable)] <- 0"
   ]
  },
  {
   "cell_type": "code",
   "execution_count": 147,
   "id": "dd62fd37-4175-46fb-81cf-5f98e7626fa6",
   "metadata": {},
   "outputs": [
    {
     "data": {
      "text/html": [
       "<table class=\"dataframe\">\n",
       "<caption>A data.frame: 6 × 194</caption>\n",
       "<thead>\n",
       "\t<tr><th></th><th scope=col>name</th><th scope=col>taxonomy_id</th><th scope=col>1017-NOR</th><th scope=col>1079-NOR</th><th scope=col>1083-NOR</th><th scope=col>110-NOR</th><th scope=col>1125-NOR</th><th scope=col>1199-NOR</th><th scope=col>1207-NOR</th><th scope=col>1264-NOR</th><th scope=col>⋯</th><th scope=col>578-COPD</th><th scope=col>634-COPD</th><th scope=col>648-COPD</th><th scope=col>704-COPD</th><th scope=col>743-COPD</th><th scope=col>815-COPD</th><th scope=col>821-COPD</th><th scope=col>852-COPD</th><th scope=col>964-COPD</th><th scope=col>984-COPD</th></tr>\n",
       "\t<tr><th></th><th scope=col>&lt;chr&gt;</th><th scope=col>&lt;chr&gt;</th><th scope=col>&lt;dbl&gt;</th><th scope=col>&lt;dbl&gt;</th><th scope=col>&lt;dbl&gt;</th><th scope=col>&lt;dbl&gt;</th><th scope=col>&lt;dbl&gt;</th><th scope=col>&lt;dbl&gt;</th><th scope=col>&lt;dbl&gt;</th><th scope=col>&lt;dbl&gt;</th><th scope=col>⋯</th><th scope=col>&lt;dbl&gt;</th><th scope=col>&lt;dbl&gt;</th><th scope=col>&lt;dbl&gt;</th><th scope=col>&lt;dbl&gt;</th><th scope=col>&lt;dbl&gt;</th><th scope=col>&lt;dbl&gt;</th><th scope=col>&lt;dbl&gt;</th><th scope=col>&lt;dbl&gt;</th><th scope=col>&lt;dbl&gt;</th><th scope=col>&lt;dbl&gt;</th></tr>\n",
       "</thead>\n",
       "<tbody>\n",
       "\t<tr><th scope=row>1</th><td>Abiotrophia defectiva                 </td><td>46125  </td><td>0</td><td>0</td><td> 0</td><td>0</td><td>10</td><td>0</td><td>0</td><td>0</td><td>⋯</td><td>0</td><td>0</td><td> 0</td><td> 0</td><td>0</td><td>0</td><td>0</td><td> 0</td><td>0</td><td> 0</td></tr>\n",
       "\t<tr><th scope=row>2</th><td>Achromobacter spanius                 </td><td>217203 </td><td>0</td><td>0</td><td> 0</td><td>0</td><td> 0</td><td>0</td><td>0</td><td>0</td><td>⋯</td><td>0</td><td>0</td><td> 0</td><td> 0</td><td>0</td><td>0</td><td>0</td><td> 0</td><td>0</td><td> 0</td></tr>\n",
       "\t<tr><th scope=row>3</th><td>Achromobacter xylosoxidans            </td><td>85698  </td><td>0</td><td>0</td><td> 0</td><td>0</td><td> 0</td><td>0</td><td>0</td><td>0</td><td>⋯</td><td>0</td><td>0</td><td> 0</td><td> 0</td><td>0</td><td>0</td><td>0</td><td> 0</td><td>0</td><td> 0</td></tr>\n",
       "\t<tr><th scope=row>4</th><td>Acidaminococcus fermentans            </td><td>905    </td><td>0</td><td>0</td><td> 0</td><td>0</td><td> 0</td><td>0</td><td>0</td><td>0</td><td>⋯</td><td>0</td><td>0</td><td>11</td><td>11</td><td>0</td><td>0</td><td>0</td><td> 0</td><td>0</td><td> 0</td></tr>\n",
       "\t<tr><th scope=row>5</th><td>Acidipropionibacterium acidipropionici</td><td>1748   </td><td>0</td><td>0</td><td>15</td><td>0</td><td> 0</td><td>0</td><td>0</td><td>0</td><td>⋯</td><td>0</td><td>0</td><td> 0</td><td> 0</td><td>0</td><td>0</td><td>0</td><td>23</td><td>0</td><td>11</td></tr>\n",
       "\t<tr><th scope=row>6</th><td>Acidisarcina polymorpha               </td><td>2211140</td><td>0</td><td>0</td><td> 0</td><td>0</td><td> 0</td><td>0</td><td>0</td><td>0</td><td>⋯</td><td>0</td><td>0</td><td> 0</td><td> 0</td><td>0</td><td>0</td><td>0</td><td> 0</td><td>0</td><td> 0</td></tr>\n",
       "</tbody>\n",
       "</table>\n"
      ],
      "text/latex": [
       "A data.frame: 6 × 194\n",
       "\\begin{tabular}{r|lllllllllllllllllllll}\n",
       "  & name & taxonomy\\_id & 1017-NOR & 1079-NOR & 1083-NOR & 110-NOR & 1125-NOR & 1199-NOR & 1207-NOR & 1264-NOR & ⋯ & 578-COPD & 634-COPD & 648-COPD & 704-COPD & 743-COPD & 815-COPD & 821-COPD & 852-COPD & 964-COPD & 984-COPD\\\\\n",
       "  & <chr> & <chr> & <dbl> & <dbl> & <dbl> & <dbl> & <dbl> & <dbl> & <dbl> & <dbl> & ⋯ & <dbl> & <dbl> & <dbl> & <dbl> & <dbl> & <dbl> & <dbl> & <dbl> & <dbl> & <dbl>\\\\\n",
       "\\hline\n",
       "\t1 & Abiotrophia defectiva                  & 46125   & 0 & 0 &  0 & 0 & 10 & 0 & 0 & 0 & ⋯ & 0 & 0 &  0 &  0 & 0 & 0 & 0 &  0 & 0 &  0\\\\\n",
       "\t2 & Achromobacter spanius                  & 217203  & 0 & 0 &  0 & 0 &  0 & 0 & 0 & 0 & ⋯ & 0 & 0 &  0 &  0 & 0 & 0 & 0 &  0 & 0 &  0\\\\\n",
       "\t3 & Achromobacter xylosoxidans             & 85698   & 0 & 0 &  0 & 0 &  0 & 0 & 0 & 0 & ⋯ & 0 & 0 &  0 &  0 & 0 & 0 & 0 &  0 & 0 &  0\\\\\n",
       "\t4 & Acidaminococcus fermentans             & 905     & 0 & 0 &  0 & 0 &  0 & 0 & 0 & 0 & ⋯ & 0 & 0 & 11 & 11 & 0 & 0 & 0 &  0 & 0 &  0\\\\\n",
       "\t5 & Acidipropionibacterium acidipropionici & 1748    & 0 & 0 & 15 & 0 &  0 & 0 & 0 & 0 & ⋯ & 0 & 0 &  0 &  0 & 0 & 0 & 0 & 23 & 0 & 11\\\\\n",
       "\t6 & Acidisarcina polymorpha                & 2211140 & 0 & 0 &  0 & 0 &  0 & 0 & 0 & 0 & ⋯ & 0 & 0 &  0 &  0 & 0 & 0 & 0 &  0 & 0 &  0\\\\\n",
       "\\end{tabular}\n"
      ],
      "text/markdown": [
       "\n",
       "A data.frame: 6 × 194\n",
       "\n",
       "| <!--/--> | name &lt;chr&gt; | taxonomy_id &lt;chr&gt; | 1017-NOR &lt;dbl&gt; | 1079-NOR &lt;dbl&gt; | 1083-NOR &lt;dbl&gt; | 110-NOR &lt;dbl&gt; | 1125-NOR &lt;dbl&gt; | 1199-NOR &lt;dbl&gt; | 1207-NOR &lt;dbl&gt; | 1264-NOR &lt;dbl&gt; | ⋯ ⋯ | 578-COPD &lt;dbl&gt; | 634-COPD &lt;dbl&gt; | 648-COPD &lt;dbl&gt; | 704-COPD &lt;dbl&gt; | 743-COPD &lt;dbl&gt; | 815-COPD &lt;dbl&gt; | 821-COPD &lt;dbl&gt; | 852-COPD &lt;dbl&gt; | 964-COPD &lt;dbl&gt; | 984-COPD &lt;dbl&gt; |\n",
       "|---|---|---|---|---|---|---|---|---|---|---|---|---|---|---|---|---|---|---|---|---|---|\n",
       "| 1 | Abiotrophia defectiva                  | 46125   | 0 | 0 |  0 | 0 | 10 | 0 | 0 | 0 | ⋯ | 0 | 0 |  0 |  0 | 0 | 0 | 0 |  0 | 0 |  0 |\n",
       "| 2 | Achromobacter spanius                  | 217203  | 0 | 0 |  0 | 0 |  0 | 0 | 0 | 0 | ⋯ | 0 | 0 |  0 |  0 | 0 | 0 | 0 |  0 | 0 |  0 |\n",
       "| 3 | Achromobacter xylosoxidans             | 85698   | 0 | 0 |  0 | 0 |  0 | 0 | 0 | 0 | ⋯ | 0 | 0 |  0 |  0 | 0 | 0 | 0 |  0 | 0 |  0 |\n",
       "| 4 | Acidaminococcus fermentans             | 905     | 0 | 0 |  0 | 0 |  0 | 0 | 0 | 0 | ⋯ | 0 | 0 | 11 | 11 | 0 | 0 | 0 |  0 | 0 |  0 |\n",
       "| 5 | Acidipropionibacterium acidipropionici | 1748    | 0 | 0 | 15 | 0 |  0 | 0 | 0 | 0 | ⋯ | 0 | 0 |  0 |  0 | 0 | 0 | 0 | 23 | 0 | 11 |\n",
       "| 6 | Acidisarcina polymorpha                | 2211140 | 0 | 0 |  0 | 0 |  0 | 0 | 0 | 0 | ⋯ | 0 | 0 |  0 |  0 | 0 | 0 | 0 |  0 | 0 |  0 |\n",
       "\n"
      ],
      "text/plain": [
       "  name                                   taxonomy_id 1017-NOR 1079-NOR 1083-NOR\n",
       "1 Abiotrophia defectiva                  46125       0        0         0      \n",
       "2 Achromobacter spanius                  217203      0        0         0      \n",
       "3 Achromobacter xylosoxidans             85698       0        0         0      \n",
       "4 Acidaminococcus fermentans             905         0        0         0      \n",
       "5 Acidipropionibacterium acidipropionici 1748        0        0        15      \n",
       "6 Acidisarcina polymorpha                2211140     0        0         0      \n",
       "  110-NOR 1125-NOR 1199-NOR 1207-NOR 1264-NOR ⋯ 578-COPD 634-COPD 648-COPD\n",
       "1 0       10       0        0        0        ⋯ 0        0         0      \n",
       "2 0        0       0        0        0        ⋯ 0        0         0      \n",
       "3 0        0       0        0        0        ⋯ 0        0         0      \n",
       "4 0        0       0        0        0        ⋯ 0        0        11      \n",
       "5 0        0       0        0        0        ⋯ 0        0         0      \n",
       "6 0        0       0        0        0        ⋯ 0        0         0      \n",
       "  704-COPD 743-COPD 815-COPD 821-COPD 852-COPD 964-COPD 984-COPD\n",
       "1  0       0        0        0         0       0         0      \n",
       "2  0       0        0        0         0       0         0      \n",
       "3  0       0        0        0         0       0         0      \n",
       "4 11       0        0        0         0       0         0      \n",
       "5  0       0        0        0        23       0        11      \n",
       "6  0       0        0        0         0       0         0      "
      ]
     },
     "metadata": {},
     "output_type": "display_data"
    }
   ],
   "source": [
    "head(finalTable)"
   ]
  },
  {
   "cell_type": "code",
   "execution_count": 148,
   "id": "29566c54-c50b-4bb1-96e6-6f85b8164a53",
   "metadata": {},
   "outputs": [],
   "source": [
    "write.table(finalTable,paste0(wd, \"/COPD.NOR.Bracken.Standard.txt\"),sep='\\t',quote = F, row.names = F)"
   ]
  },
  {
   "cell_type": "code",
   "execution_count": null,
   "id": "710ba248-5c42-41a6-8033-3de97a655569",
   "metadata": {},
   "outputs": [],
   "source": []
  }
 ],
 "metadata": {
  "kernelspec": {
   "display_name": "R",
   "language": "R",
   "name": "ir"
  },
  "language_info": {
   "codemirror_mode": "r",
   "file_extension": ".r",
   "mimetype": "text/x-r-source",
   "name": "R",
   "pygments_lexer": "r",
   "version": "4.1.3"
  }
 },
 "nbformat": 4,
 "nbformat_minor": 5
}
